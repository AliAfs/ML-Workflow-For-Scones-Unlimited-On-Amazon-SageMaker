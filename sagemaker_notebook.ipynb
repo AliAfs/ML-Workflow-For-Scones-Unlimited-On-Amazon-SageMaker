{
 "cells": [
  {
   "cell_type": "markdown",
   "metadata": {},
   "source": [
    "# Deploy and monitor a machine learning workflow for Image Classification"
   ]
  },
  {
   "cell_type": "markdown",
   "metadata": {},
   "source": [
    "## Setting up this notebook\n",
    "\n",
    "Notes about the instance size and kernel setup: this notebook has been tested on\n",
    "\n",
    "1. The `Python 3 (Data Science)` kernel\n",
    "2. The `ml.t3.medium` Sagemaker notebook instance\n",
    "\n",
    "## Data Staging\n",
    "\n",
    "We'll use a sample dataset called CIFAR to simulate the challenges Scones Unlimited are facing in Image Classification. In order to start working with CIFAR we'll need to:\n",
    "\n",
    "1. Extract the data from a hosting service\n",
    "2. Transform it into a usable shape and format\n",
    "3. Load it into a production system\n",
    "\n",
    "In other words, we're going to do some simple ETL!\n",
    "\n",
    "### 1. Extract the data from the hosting service\n",
    "\n",
    "In the cell below, define a function `extract_cifar_data` that extracts python version of the CIFAR-100 dataset. The CIFAR dataaset is open source and generously hosted by the University of Toronto at: https://www.cs.toronto.edu/~kriz/cifar-100-python.tar.gz "
   ]
  },
  {
   "cell_type": "code",
   "execution_count": 1,
   "metadata": {
    "tags": []
   },
   "outputs": [],
   "source": [
    "import requests\n",
    "\n",
    "def extract_cifar_data(url, filename=\"cifar.tar.gz\"):\n",
    "    \"\"\"A function for extracting the CIFAR-100 dataset and storing it as a gzipped file\n",
    "    \n",
    "    Arguments:\n",
    "    url      -- the URL where the dataset is hosted\n",
    "    filename -- the full path where the dataset will be written\n",
    "    \n",
    "    \"\"\"\n",
    "    \n",
    "    # Todo: request the data from the data url\n",
    "    # Hint: use `requests.get` method\n",
    "    r = requests.get(url)\n",
    "    with open(filename, \"wb\") as file_context:\n",
    "        file_context.write(r.content)\n",
    "    return"
   ]
  },
  {
   "cell_type": "markdown",
   "metadata": {},
   "source": [
    "Let's test it out! Run the following cell and check whether a new file `cifar.tar.gz` is created in the file explorer."
   ]
  },
  {
   "cell_type": "code",
   "execution_count": 3,
   "metadata": {
    "tags": []
   },
   "outputs": [],
   "source": [
    "extract_cifar_data(\"https://www.cs.toronto.edu/~kriz/cifar-100-python.tar.gz\")     "
   ]
  },
  {
   "cell_type": "markdown",
   "metadata": {},
   "source": [
    "### 2. Transform the data into a usable shape and format\n",
    "\n",
    "Clearly, distributing the data as a gzipped archive makes sense for the hosting service! It saves on bandwidth, storage, and it's a widely-used archive format. In fact, it's so widely used that the Python community ships a utility for working with them, `tarfile`, as part of its Standard Library. Execute the following cell to decompress your extracted dataset:"
   ]
  },
  {
   "cell_type": "code",
   "execution_count": 4,
   "metadata": {
    "tags": []
   },
   "outputs": [],
   "source": [
    "import tarfile\n",
    "\n",
    "with tarfile.open(\"cifar.tar.gz\", \"r:gz\") as tar:\n",
    "    tar.extractall()"
   ]
  },
  {
   "cell_type": "markdown",
   "metadata": {},
   "source": [
    "A new folder `cifar-100-python` should be created, containing `meta`, `test`, and `train` files. These files are `pickles` and the [CIFAR homepage](https://www.cs.toronto.edu/~kriz/cifar.html) provides a simple script that can be used to load them. We've adapted the script below for you to run:"
   ]
  },
  {
   "cell_type": "code",
   "execution_count": 5,
   "metadata": {
    "tags": []
   },
   "outputs": [],
   "source": [
    "import pickle\n",
    "\n",
    "with open(\"./cifar-100-python/meta\", \"rb\") as f:\n",
    "    dataset_meta = pickle.load(f, encoding='bytes')\n",
    "\n",
    "with open(\"./cifar-100-python/test\", \"rb\") as f:\n",
    "    dataset_test = pickle.load(f, encoding='bytes')\n",
    "\n",
    "with open(\"./cifar-100-python/train\", \"rb\") as f:\n",
    "    dataset_train = pickle.load(f, encoding='bytes')"
   ]
  },
  {
   "cell_type": "code",
   "execution_count": 6,
   "metadata": {
    "tags": []
   },
   "outputs": [
    {
     "data": {
      "text/plain": [
       "dict_keys([b'filenames', b'batch_label', b'fine_labels', b'coarse_labels', b'data'])"
      ]
     },
     "execution_count": 6,
     "metadata": {},
     "output_type": "execute_result"
    }
   ],
   "source": [
    "# Feel free to explore the datasets\n",
    "\n",
    "dataset_train.keys()"
   ]
  },
  {
   "cell_type": "markdown",
   "metadata": {},
   "source": [
    "As documented on the homepage, `b'data'` contains rows of 3073 unsigned integers, representing three channels (red, green, and blue) for one 32x32 pixel image per row."
   ]
  },
  {
   "cell_type": "code",
   "execution_count": 9,
   "metadata": {
    "tags": []
   },
   "outputs": [
    {
     "data": {
      "text/plain": [
       "3072"
      ]
     },
     "execution_count": 9,
     "metadata": {},
     "output_type": "execute_result"
    }
   ],
   "source": [
    "32*32*3"
   ]
  },
  {
   "cell_type": "markdown",
   "metadata": {},
   "source": [
    "For a simple gut-check, let's transform one of our images. Each 1024 items in a row is a channel (red, green, then blue). Each 32 items in the channel are a row in the 32x32 image. Using python, we can stack these channels into a 32x32x3 array, and save it as a PNG file:"
   ]
  },
  {
   "cell_type": "code",
   "execution_count": 10,
   "metadata": {
    "tags": []
   },
   "outputs": [],
   "source": [
    "import numpy as np\n",
    "\n",
    "# Each 1024 in a row is a channel (red, green, then blue)\n",
    "row = dataset_train[b'data'][0]\n",
    "red, green, blue = row[0:1024], row[1024:2048], row[2048:]\n",
    "\n",
    "# Each 32 items in the channel are a row in the 32x32 image\n",
    "red = red.reshape(32,32)\n",
    "green = green.reshape(32,32)\n",
    "blue = blue.reshape(32,32)\n",
    "\n",
    "# Combine the channels into a 32x32x3 image!\n",
    "combined = np.dstack((red,green,blue))"
   ]
  },
  {
   "cell_type": "markdown",
   "metadata": {},
   "source": [
    "For a more concise version, consider the following:"
   ]
  },
  {
   "cell_type": "code",
   "execution_count": 11,
   "metadata": {
    "tags": []
   },
   "outputs": [],
   "source": [
    "# All in one:\n",
    "test_image = np.dstack((\n",
    "    row[0:1024].reshape(32,32),\n",
    "    row[1024:2048].reshape(32,32),\n",
    "    row[2048:].reshape(32,32)\n",
    "))"
   ]
  },
  {
   "cell_type": "code",
   "execution_count": 12,
   "metadata": {
    "tags": []
   },
   "outputs": [
    {
     "data": {
      "image/png": "[encoded data removed]",
      "text/plain": [
       "<Figure size 640x480 with 1 Axes>"
      ]
     },
     "metadata": {},
     "output_type": "display_data"
    }
   ],
   "source": [
    "import matplotlib.pyplot as plt\n",
    "plt.imshow(test_image);"
   ]
  },
  {
   "cell_type": "markdown",
   "metadata": {},
   "source": [
    "Looks like a cow! Let's check the label. `dataset_meta` contains label names in order, and `dataset_train` has a list of labels for each row."
   ]
  },
  {
   "cell_type": "code",
   "execution_count": 13,
   "metadata": {
    "tags": []
   },
   "outputs": [
    {
     "data": {
      "text/plain": [
       "19"
      ]
     },
     "execution_count": 13,
     "metadata": {},
     "output_type": "execute_result"
    }
   ],
   "source": [
    "dataset_train[b'fine_labels'][0]"
   ]
  },
  {
   "cell_type": "markdown",
   "metadata": {},
   "source": [
    "Our image has a label of `19`, so let's see what the 19th item is in the list of label names."
   ]
  },
  {
   "cell_type": "code",
   "execution_count": 14,
   "metadata": {
    "tags": []
   },
   "outputs": [
    {
     "name": "stdout",
     "output_type": "stream",
     "text": [
      "b'cattle'\n"
     ]
    }
   ],
   "source": [
    "print(dataset_meta[b'fine_label_names'][19])"
   ]
  },
  {
   "cell_type": "markdown",
   "metadata": {},
   "source": [
    "Ok! 'cattle' sounds about right. By the way, using the previous two lines we can do:"
   ]
  },
  {
   "cell_type": "code",
   "execution_count": 15,
   "metadata": {
    "tags": []
   },
   "outputs": [
    {
     "name": "stdout",
     "output_type": "stream",
     "text": [
      "b'cattle'\n"
     ]
    }
   ],
   "source": [
    "n = 0\n",
    "print(dataset_meta[b'fine_label_names'][dataset_train[b'fine_labels'][n]])"
   ]
  },
  {
   "cell_type": "markdown",
   "metadata": {},
   "source": [
    "Now we know how to check labels, is there a way that we can also check file names? `dataset_train` also contains a `b'filenames'` key. Let's see what we have here:"
   ]
  },
  {
   "cell_type": "code",
   "execution_count": 16,
   "metadata": {
    "tags": []
   },
   "outputs": [
    {
     "name": "stdout",
     "output_type": "stream",
     "text": [
      "b'bos_taurus_s_000507.png'\n"
     ]
    }
   ],
   "source": [
    "print(dataset_train[b'filenames'][0])"
   ]
  },
  {
   "cell_type": "markdown",
   "metadata": {},
   "source": [
    "\"Taurus\" is the name of a subspecies of cattle, so this looks like a pretty reasonable filename. To save an image we can also do:"
   ]
  },
  {
   "cell_type": "code",
   "execution_count": 17,
   "metadata": {
    "tags": []
   },
   "outputs": [],
   "source": [
    "plt.imsave(\"file.png\", test_image)"
   ]
  },
  {
   "cell_type": "markdown",
   "metadata": {},
   "source": [
    "Your new PNG file should now appear in the file explorer -- go ahead and pop it open to see!\n",
    "\n",
    "Now that you know how to reshape the images, save them as files, and capture their filenames and labels, let's just capture all the bicycles and motorcycles and save them. Scones Unlimited can use a model that tells these apart to route delivery drivers automatically.\n",
    "\n",
    "In the following cell, identify the label numbers for Bicycles and Motorcycles:"
   ]
  },
  {
   "cell_type": "code",
   "execution_count": 26,
   "metadata": {
    "tags": []
   },
   "outputs": [
    {
     "name": "stdout",
     "output_type": "stream",
     "text": [
      "Label number for Bicycles: 8\n",
      "Label number for Motorcycles: 48\n"
     ]
    }
   ],
   "source": [
    "import pandas as pd\n",
    "\n",
    "# Filter the dataset_train and dataset_meta objects to find the label numbers for Bicycle and Motorcycles\n",
    "\n",
    "print(\"Label number for Bicycles:\",\n",
    "      dataset_meta[b'fine_label_names'].index(b'bicycle'))\n",
    "\n",
    "print(\"Label number for Motorcycles:\",\n",
    "      dataset_meta[b'fine_label_names'].index(b'motorcycle'))"
   ]
  },
  {
   "cell_type": "markdown",
   "metadata": {},
   "source": [
    "Good job! We only need objects with label 8 and 48 -- this drastically simplifies our handling of the data! Below we construct a dataframe for you, and you can safely drop the rows that don't contain observations about bicycles and motorcycles. Fill in the missing lines below to drop all other rows:"
   ]
  },
  {
   "cell_type": "code",
   "execution_count": 28,
   "metadata": {
    "tags": []
   },
   "outputs": [],
   "source": [
    "#Construct the dataframe\n",
    "df_train = pd.DataFrame({\n",
    "    \"filenames\": dataset_train[b'filenames'],\n",
    "    \"labels\": dataset_train[b'fine_labels'],\n",
    "    \"row\": range(len(dataset_train[b'filenames']))\n",
    "})\n",
    "\n",
    "# Drop all rows from df_train where label is not 8 or 48\n",
    "df_train = df_train[(df_train[\"labels\"]==8) | (df_train[\"labels\"]==48)] \n",
    "\n",
    "# Decode df_train.filenames so they are regular strings\n",
    "df_train[\"filenames\"] = df_train[\"filenames\"].apply(\n",
    "    lambda x: x.decode(\"utf-8\")\n",
    ")\n",
    "\n",
    "\n",
    "df_test = pd.DataFrame({\n",
    "    \"filenames\": dataset_test[b'filenames'],\n",
    "    \"labels\": dataset_test[b'fine_labels'],\n",
    "    \"row\": range(len(dataset_test[b'filenames']))\n",
    "})\n",
    "\n",
    "# Drop all rows from df_test where label is not 8 or 48\n",
    "df_test = df_test[(df_test[\"labels\"]==8) | (df_test[\"labels\"]==48)]\n",
    "\n",
    "# Decode df_test.filenames so they are regular strings\n",
    "df_test[\"filenames\"] = df_test[\"filenames\"].apply(\n",
    "    lambda x: x.decode(\"utf-8\")\n",
    ")"
   ]
  },
  {
   "cell_type": "markdown",
   "metadata": {},
   "source": [
    "Now that the data is filtered for just our classes, we can save all our images."
   ]
  },
  {
   "cell_type": "code",
   "execution_count": 60,
   "metadata": {
    "tags": []
   },
   "outputs": [],
   "source": [
    "!mkdir ./train\n",
    "!mkdir ./test"
   ]
  },
  {
   "cell_type": "markdown",
   "metadata": {},
   "source": [
    "In the previous sections we introduced you to several key snippets of code:\n",
    "\n",
    "1. Grabbing the image data:\n",
    "\n",
    "```python\n",
    "dataset_train[b'data'][0]\n",
    "```\n",
    "\n",
    "2. A simple idiom for stacking the image data into the right shape\n",
    "\n",
    "```python\n",
    "import numpy as np\n",
    "np.dstack((\n",
    "    row[0:1024].reshape(32,32),\n",
    "    row[1024:2048].reshape(32,32),\n",
    "    row[2048:].reshape(32,32)\n",
    "))\n",
    "```\n",
    "\n",
    "3. A simple `matplotlib` utility for saving images\n",
    "\n",
    "```python\n",
    "plt.imsave(path+row['filenames'], target)\n",
    "```\n",
    "\n",
    "Compose these together into a function that saves all the images into the `./test` and `./train` directories. Use the comments in the body of the `save_images` function below to guide your construction of the function:\n"
   ]
  },
  {
   "cell_type": "code",
   "execution_count": 62,
   "metadata": {
    "tags": []
   },
   "outputs": [
    {
     "data": {
      "text/html": [
       "<div>\n",
       "<style scoped>\n",
       "    .dataframe tbody tr th:only-of-type {\n",
       "        vertical-align: middle;\n",
       "    }\n",
       "\n",
       "    .dataframe tbody tr th {\n",
       "        vertical-align: top;\n",
       "    }\n",
       "\n",
       "    .dataframe thead th {\n",
       "        text-align: right;\n",
       "    }\n",
       "</style>\n",
       "<table border=\"1\" class=\"dataframe\">\n",
       "  <thead>\n",
       "    <tr style=\"text-align: right;\">\n",
       "      <th></th>\n",
       "      <th>filenames</th>\n",
       "      <th>labels</th>\n",
       "      <th>row</th>\n",
       "    </tr>\n",
       "  </thead>\n",
       "  <tbody>\n",
       "    <tr>\n",
       "      <th>27</th>\n",
       "      <td>safety_bike_s_000390.png</td>\n",
       "      <td>8</td>\n",
       "      <td>27</td>\n",
       "    </tr>\n",
       "    <tr>\n",
       "      <th>28</th>\n",
       "      <td>bike_s_000658.png</td>\n",
       "      <td>8</td>\n",
       "      <td>28</td>\n",
       "    </tr>\n",
       "    <tr>\n",
       "      <th>116</th>\n",
       "      <td>velocipede_s_001744.png</td>\n",
       "      <td>8</td>\n",
       "      <td>116</td>\n",
       "    </tr>\n",
       "    <tr>\n",
       "      <th>161</th>\n",
       "      <td>bike_s_000643.png</td>\n",
       "      <td>8</td>\n",
       "      <td>161</td>\n",
       "    </tr>\n",
       "    <tr>\n",
       "      <th>319</th>\n",
       "      <td>ordinary_bicycle_s_000437.png</td>\n",
       "      <td>8</td>\n",
       "      <td>319</td>\n",
       "    </tr>\n",
       "  </tbody>\n",
       "</table>\n",
       "</div>"
      ],
      "text/plain": [
       "                         filenames  labels  row\n",
       "27        safety_bike_s_000390.png       8   27\n",
       "28               bike_s_000658.png       8   28\n",
       "116        velocipede_s_001744.png       8  116\n",
       "161              bike_s_000643.png       8  161\n",
       "319  ordinary_bicycle_s_000437.png       8  319"
      ]
     },
     "execution_count": 62,
     "metadata": {},
     "output_type": "execute_result"
    }
   ],
   "source": [
    "df_test.head()"
   ]
  },
  {
   "cell_type": "code",
   "execution_count": 70,
   "metadata": {
    "tags": []
   },
   "outputs": [
    {
     "data": {
      "text/plain": [
       "200"
      ]
     },
     "execution_count": 70,
     "metadata": {},
     "output_type": "execute_result"
    }
   ],
   "source": [
    "len(df_test)"
   ]
  },
  {
   "cell_type": "code",
   "execution_count": 66,
   "metadata": {
    "tags": []
   },
   "outputs": [
    {
     "name": "stdout",
     "output_type": "stream",
     "text": [
      "All images in train dataframe have been saved successfully!\n",
      "All images in test dataframe have been saved successfully!\n"
     ]
    }
   ],
   "source": [
    "def save_images(df, test_or_train):\n",
    "    if test_or_train == \"train\":\n",
    "        path = \"./train/\"\n",
    "        dataset = dataset_train\n",
    "    elif test_or_train == \"test\":\n",
    "        path = \"./test/\"\n",
    "        dataset = dataset_test\n",
    "    else:\n",
    "        print(\"test_or_train parameter can only be test or train!\")\n",
    "        \n",
    "    for row, filename in zip(df[\"row\"], df[\"filenames\"]):\n",
    "        #Grab the image data in row-major form\n",
    "        img = dataset[b'data'][row]\n",
    "\n",
    "        # Consolidated stacking/reshaping from earlier\n",
    "        target = np.dstack((\n",
    "                        img[0:1024].reshape(32,32),\n",
    "                        img[1024:2048].reshape(32,32),\n",
    "                        img[2048:].reshape(32,32)\n",
    "                    ))\n",
    "\n",
    "        # Save the image\n",
    "        plt.imsave(path+filename, target)\n",
    "    \n",
    "    # Return any signal data you want for debugging\n",
    "    print(f\"All images in {test_or_train} dataframe have been saved successfully!\")\n",
    "    return\n",
    "\n",
    "## save ALL images using the save_images function\n",
    "save_images(df_train, test_or_train=\"train\")\n",
    "save_images(df_test, test_or_train=\"test\")"
   ]
  },
  {
   "cell_type": "markdown",
   "metadata": {},
   "source": [
    "### 3. Load the data\n",
    "\n",
    "Now we can load the data into S3.\n",
    "\n",
    "Using the sagemaker SDK grab the current region, execution role, and bucket."
   ]
  },
  {
   "cell_type": "code",
   "execution_count": 46,
   "metadata": {
    "tags": []
   },
   "outputs": [
    {
     "name": "stdout",
     "output_type": "stream",
     "text": [
      "Default Bucket: sagemaker-us-east-1-330638464358\n",
      "AWS Region: us-east-1\n",
      "RoleArn: arn:aws:iam::330638464358:role/service-role/AmazonSageMaker-ExecutionRole-20230801T144410\n"
     ]
    }
   ],
   "source": [
    "import sagemaker\n",
    "import boto3\n",
    "\n",
    "bucket = sagemaker.Session().default_bucket() \n",
    "print(\"Default Bucket: {}\".format(bucket))\n",
    "\n",
    "region = boto3.Session().region_name \n",
    "print(\"AWS Region: {}\".format(region))\n",
    "\n",
    "role = sagemaker.get_execution_role() \n",
    "print(\"RoleArn: {}\".format(role))"
   ]
  },
  {
   "cell_type": "markdown",
   "metadata": {},
   "source": [
    "With this data we can easily sync your data up into S3!"
   ]
  },
  {
   "cell_type": "code",
   "execution_count": 47,
   "metadata": {
    "tags": []
   },
   "outputs": [],
   "source": [
    "import os\n",
    "\n",
    "os.environ[\"DEFAULT_S3_BUCKET\"] = bucket\n",
    "!aws s3 sync ./train s3://${DEFAULT_S3_BUCKET}/train/\n",
    "!aws s3 sync ./test s3://${DEFAULT_S3_BUCKET}/test/"
   ]
  },
  {
   "cell_type": "markdown",
   "metadata": {},
   "source": [
    "And that's it! You can check the bucket and verify that the items were uploaded.\n",
    "\n",
    "## Model Training\n",
    "\n",
    "For Image Classification, Sagemaker [also expects metadata](https://docs.aws.amazon.com/sagemaker/latest/dg/image-classification.html) e.g. in the form of TSV files with labels and filepaths. We can generate these using our Pandas DataFrames from earlier:"
   ]
  },
  {
   "cell_type": "code",
   "execution_count": 118,
   "metadata": {
    "tags": []
   },
   "outputs": [],
   "source": [
    "def to_metadata_file(df, prefix):\n",
    "    df[\"s3_path\"] = df[\"filenames\"]\n",
    "    df[\"labels\"] = df[\"labels\"].apply(lambda x: 0 if x==8 else 1)\n",
    "    return df[[\"row\", \"labels\", \"s3_path\"]].to_csv(\n",
    "        f\"{prefix}.lst\", sep=\"\\t\", index=False, header=False\n",
    "    )\n",
    "    \n",
    "to_metadata_file(df_train.copy(), \"train\")\n",
    "to_metadata_file(df_test.copy(), \"test\")"
   ]
  },
  {
   "cell_type": "markdown",
   "metadata": {},
   "source": [
    "We can also upload our manifest files:"
   ]
  },
  {
   "cell_type": "code",
   "execution_count": 119,
   "metadata": {
    "tags": []
   },
   "outputs": [],
   "source": [
    "import boto3\n",
    "\n",
    "# Upload files\n",
    "boto3.Session().resource('s3').Bucket(\n",
    "    bucket).Object('train.lst').upload_file('./train.lst')\n",
    "boto3.Session().resource('s3').Bucket(\n",
    "    bucket).Object('test.lst').upload_file('./test.lst')"
   ]
  },
  {
   "cell_type": "markdown",
   "metadata": {},
   "source": [
    "Using the `bucket` and `region` info we can get the latest prebuilt container to run our training job, and define an output location on our s3 bucket for the model. Use the `image_uris` function from the SageMaker SDK to retrieve the latest `image-classification` image below:"
   ]
  },
  {
   "cell_type": "code",
   "execution_count": 120,
   "metadata": {
    "tags": []
   },
   "outputs": [
    {
     "name": "stderr",
     "output_type": "stream",
     "text": [
      "INFO:sagemaker.image_uris:Same images used for training and inference. Defaulting to image scope: inference.\n",
      "INFO:sagemaker.image_uris:Defaulting to the only supported framework/algorithm version: 1.\n",
      "INFO:sagemaker.image_uris:Ignoring unnecessary instance type: None.\n"
     ]
    }
   ],
   "source": [
    "# Use the image_uris function to retrieve the latest 'image-classification' image \n",
    "algo_image = sagemaker.image_uris.retrieve(region=region, framework=\"image-classification\")\n",
    "s3_output_location = f\"s3://{bucket}/models/image_model\""
   ]
  },
  {
   "cell_type": "markdown",
   "metadata": {},
   "source": [
    "We're ready to create an estimator! Create an estimator `img_classifier_model` that uses one instance of `ml.p3.2xlarge`. Ensure that y ou use the output location we defined above - we'll be referring to that later!"
   ]
  },
  {
   "cell_type": "code",
   "execution_count": 121,
   "metadata": {
    "tags": []
   },
   "outputs": [],
   "source": [
    "img_classifier_model=sagemaker.estimator.Estimator(\n",
    "    image_uri=algo_image,\n",
    "    role=role,\n",
    "    instance_type=\"ml.p3.2xlarge\",\n",
    "    instance_count=1,\n",
    "    output_path=s3_output_location,\n",
    "    sagemaker_session=sagemaker.Session()\n",
    ")"
   ]
  },
  {
   "cell_type": "markdown",
   "metadata": {},
   "source": [
    "We can also set a few key hyperparameters and define the inputs for our model:"
   ]
  },
  {
   "cell_type": "code",
   "execution_count": 50,
   "metadata": {
    "tags": []
   },
   "outputs": [
    {
     "data": {
      "text/plain": [
       "1000"
      ]
     },
     "execution_count": 50,
     "metadata": {},
     "output_type": "execute_result"
    }
   ],
   "source": [
    "len(df_train)"
   ]
  },
  {
   "cell_type": "code",
   "execution_count": 122,
   "metadata": {
    "tags": []
   },
   "outputs": [],
   "source": [
    "img_classifier_model.set_hyperparameters(\n",
    "    image_shape= \"3,32,32\", \n",
    "    num_classes= 2, \n",
    "    num_training_samples= 1000\n",
    ")"
   ]
  },
  {
   "cell_type": "markdown",
   "metadata": {},
   "source": [
    "The `image-classification` image uses four input channels with very specific input parameters. For convenience, we've provided them below:"
   ]
  },
  {
   "cell_type": "code",
   "execution_count": 123,
   "metadata": {
    "tags": []
   },
   "outputs": [],
   "source": [
    "from sagemaker.debugger import Rule, rule_configs\n",
    "from sagemaker.session import TrainingInput\n",
    "model_inputs = {\n",
    "        \"train\": sagemaker.inputs.TrainingInput(\n",
    "            s3_data=f\"s3://{bucket}/train/\",\n",
    "            content_type=\"application/x-image\"\n",
    "        ),\n",
    "        \"validation\": sagemaker.inputs.TrainingInput(\n",
    "            s3_data=f\"s3://{bucket}/test/\",\n",
    "            content_type=\"application/x-image\"\n",
    "        ),\n",
    "        \"train_lst\": sagemaker.inputs.TrainingInput(\n",
    "            s3_data=f\"s3://{bucket}/train.lst\",\n",
    "            content_type=\"application/x-image\"\n",
    "        ),\n",
    "        \"validation_lst\": sagemaker.inputs.TrainingInput(\n",
    "            s3_data=f\"s3://{bucket}/test.lst\",\n",
    "            content_type=\"application/x-image\"\n",
    "        )\n",
    "}"
   ]
  },
  {
   "cell_type": "markdown",
   "metadata": {},
   "source": [
    "Great, now we can train the model using the model_inputs. In the cell below, call the `fit` method on our model,:"
   ]
  },
  {
   "cell_type": "code",
   "execution_count": 124,
   "metadata": {
    "tags": []
   },
   "outputs": [
    {
     "name": "stderr",
     "output_type": "stream",
     "text": [
      "INFO:sagemaker:Creating training-job with name: image-classification-2023-09-02-13-10-32-169\n"
     ]
    },
    {
     "name": "stdout",
     "output_type": "stream",
     "text": [
      "2023-09-02 13:10:32 Starting - Starting the training job...\n",
      "2023-09-02 13:10:57 Starting - Preparing the instances for training.........\n",
      "2023-09-02 13:12:18 Downloading - Downloading input data...\n",
      "2023-09-02 13:12:43 Training - Downloading the training image...............\n",
      "2023-09-02 13:15:09 Training - Training image download completed. Training in progress...\u001b[34mDocker entrypoint called with argument(s): train\u001b[0m\n",
      "\u001b[34mRunning default environment configuration script\u001b[0m\n",
      "\u001b[34mNvidia gpu devices, drivers and cuda toolkit versions (only available on hosts with GPU):\u001b[0m\n",
      "\u001b[34mSat Sep  2 13:15:39 2023       \u001b[0m\n",
      "\u001b[34m+---------------------------------------------------------------------------------------+\u001b[0m\n",
      "\u001b[34m| NVIDIA-SMI 535.54.03              Driver Version: 535.54.03    CUDA Version: 12.2     |\u001b[0m\n",
      "\u001b[34m|-----------------------------------------+----------------------+----------------------+\u001b[0m\n",
      "\u001b[34m| GPU  Name                 Persistence-M | Bus-Id        Disp.A | Volatile Uncorr. ECC |\u001b[0m\n",
      "\u001b[34m| Fan  Temp   Perf          Pwr:Usage/Cap |         Memory-Usage | GPU-Util  Compute M. |\u001b[0m\n",
      "\u001b[34m|                                         |                      |               MIG M. |\u001b[0m\n",
      "\u001b[34m|=========================================+======================+======================|\u001b[0m\n",
      "\u001b[34m|   0  Tesla V100-SXM2-16GB           On  | 00000000:00:1E.0 Off |                    0 |\u001b[0m\n",
      "\u001b[34m| N/A   42C    P0              25W / 300W |      0MiB / 16384MiB |      0%      Default |\u001b[0m\n",
      "\u001b[34m|                                         |                      |                  N/A |\u001b[0m\n",
      "\u001b[34m+-----------------------------------------+----------------------+----------------------+\n",
      "                                                                                         \u001b[0m\n",
      "\u001b[34m+---------------------------------------------------------------------------------------+\u001b[0m\n",
      "\u001b[34m| Processes:                                                                            |\u001b[0m\n",
      "\u001b[34m|  GPU   GI   CI        PID   Type   Process name                            GPU Memory |\u001b[0m\n",
      "\u001b[34m|        ID   ID                                                             Usage      |\u001b[0m\n",
      "\u001b[34m|=======================================================================================|\u001b[0m\n",
      "\u001b[34m|  No running processes found                                                           |\u001b[0m\n",
      "\u001b[34m+---------------------------------------------------------------------------------------+\u001b[0m\n",
      "\u001b[34mChecking for nvidia driver and cuda compatibility.\u001b[0m\n",
      "\u001b[34mCUDA Compatibility driver provided.\u001b[0m\n",
      "\u001b[34mProceeding with compatibility check between driver, cuda-toolkit and cuda-compat.\u001b[0m\n",
      "\u001b[34mDetected cuda-toolkit version: 11.1.\u001b[0m\n",
      "\u001b[34mDetected cuda-compat version: 455.32.00.\u001b[0m\n",
      "\u001b[34mDetected Nvidia driver version: 535.54.03.\u001b[0m\n",
      "\u001b[34mNvidia driver compatible with cuda-toolkit. Disabling cuda-compat.\u001b[0m\n",
      "\u001b[34m[09/02/2023 13:15:42 INFO 140011742922560] Reading default configuration from /opt/amazon/lib/python3.7/site-packages/image_classification/default-input.json: {'use_pretrained_model': 0, 'num_layers': 152, 'epochs': 30, 'learning_rate': 0.1, 'lr_scheduler_factor': 0.1, 'optimizer': 'sgd', 'momentum': 0, 'weight_decay': 0.0001, 'beta_1': 0.9, 'beta_2': 0.999, 'eps': 1e-08, 'gamma': 0.9, 'mini_batch_size': 32, 'image_shape': '3,224,224', 'precision_dtype': 'float32'}\u001b[0m\n",
      "\u001b[34m[09/02/2023 13:15:42 INFO 140011742922560] Merging with provided configuration from /opt/ml/input/config/hyperparameters.json: {'image_shape': '3,32,32', 'num_classes': '2', 'num_training_samples': '1000'}\u001b[0m\n",
      "\u001b[34m[09/02/2023 13:15:42 INFO 140011742922560] Final configuration: {'use_pretrained_model': 0, 'num_layers': 152, 'epochs': 30, 'learning_rate': 0.1, 'lr_scheduler_factor': 0.1, 'optimizer': 'sgd', 'momentum': 0, 'weight_decay': 0.0001, 'beta_1': 0.9, 'beta_2': 0.999, 'eps': 1e-08, 'gamma': 0.9, 'mini_batch_size': 32, 'image_shape': '3,32,32', 'precision_dtype': 'float32', 'num_classes': '2', 'num_training_samples': '1000'}\u001b[0m\n",
      "\u001b[34m[09/02/2023 13:15:42 INFO 140011742922560] Searching for .lst files in /opt/ml/input/data/train_lst.\u001b[0m\n",
      "\u001b[34m[09/02/2023 13:15:42 INFO 140011742922560] Creating record files for train.lst\u001b[0m\n",
      "\u001b[34m[09/02/2023 13:15:43 INFO 140011742922560] Done creating record files...\u001b[0m\n",
      "\u001b[34m[09/02/2023 13:15:43 INFO 140011742922560] Searching for .lst files in /opt/ml/input/data/validation_lst.\u001b[0m\n",
      "\u001b[34m[09/02/2023 13:15:43 INFO 140011742922560] Creating record files for test.lst\u001b[0m\n",
      "\u001b[34m[09/02/2023 13:15:43 INFO 140011742922560] Done creating record files...\u001b[0m\n",
      "\u001b[34m[09/02/2023 13:15:43 INFO 140011742922560] use_pretrained_model: 0\u001b[0m\n",
      "\u001b[34m[09/02/2023 13:15:43 INFO 140011742922560] multi_label: 0\u001b[0m\n",
      "\u001b[34m[09/02/2023 13:15:43 INFO 140011742922560] Performing random weight initialization\u001b[0m\n",
      "\u001b[34m[09/02/2023 13:15:43 INFO 140011742922560] ---- Parameters ----\u001b[0m\n",
      "\u001b[34m[09/02/2023 13:15:43 INFO 140011742922560] num_layers: 152\u001b[0m\n",
      "\u001b[34m[09/02/2023 13:15:43 INFO 140011742922560] data type: <class 'numpy.float32'>\u001b[0m\n",
      "\u001b[34m[09/02/2023 13:15:43 INFO 140011742922560] epochs: 30\u001b[0m\n",
      "\u001b[34m[09/02/2023 13:15:43 INFO 140011742922560] optimizer: sgd\u001b[0m\n",
      "\u001b[34m[09/02/2023 13:15:43 INFO 140011742922560] momentum: 0.9\u001b[0m\n",
      "\u001b[34m[09/02/2023 13:15:43 INFO 140011742922560] weight_decay: 0.0001\u001b[0m\n",
      "\u001b[34m[09/02/2023 13:15:43 INFO 140011742922560] learning_rate: 0.1\u001b[0m\n",
      "\u001b[34m[09/02/2023 13:15:43 INFO 140011742922560] num_training_samples: 1000\u001b[0m\n",
      "\u001b[34m[09/02/2023 13:15:43 INFO 140011742922560] mini_batch_size: 32\u001b[0m\n",
      "\u001b[34m[09/02/2023 13:15:43 INFO 140011742922560] image_shape: 3,32,32\u001b[0m\n",
      "\u001b[34m[09/02/2023 13:15:43 INFO 140011742922560] num_classes: 2\u001b[0m\n",
      "\u001b[34m[09/02/2023 13:15:43 INFO 140011742922560] augmentation_type: None\u001b[0m\n",
      "\u001b[34m[09/02/2023 13:15:43 INFO 140011742922560] kv_store: device\u001b[0m\n",
      "\u001b[34m[09/02/2023 13:15:43 INFO 140011742922560] checkpoint_frequency not set, will store the best model\u001b[0m\n",
      "\u001b[34m[09/02/2023 13:15:43 INFO 140011742922560] --------------------\u001b[0m\n",
      "\u001b[34m[09/02/2023 13:15:43 INFO 140011742922560] Setting number of threads: 7\u001b[0m\n",
      "\u001b[34m[13:15:47] /opt/brazil-pkg-cache/packages/AIAlgorithmsMXNet/AIAlgorithmsMXNet-1.4.x_ecl_Cuda_11.1.x.230.0/AL2_x86_64/generic-flavor/src/src/operator/nn/./cudnn/./cudnn_algoreg-inl.h:97: Running performance tests to find the best convolution algorithm, this can take a while... (setting env variable MXNET_CUDNN_AUTOTUNE_DEFAULT to 0 to disable)\u001b[0m\n",
      "\u001b[34m[09/02/2023 13:15:52 INFO 140011742922560] Epoch[0] Batch [20]#011Speed: 124.497 samples/sec#011accuracy=0.544643\u001b[0m\n",
      "\u001b[34m[09/02/2023 13:15:54 INFO 140011742922560] Epoch[0] Train-accuracy=0.586694\u001b[0m\n",
      "\u001b[34m[09/02/2023 13:15:54 INFO 140011742922560] Epoch[0] Time cost=6.778\u001b[0m\n",
      "\u001b[34m[09/02/2023 13:15:54 INFO 140011742922560] Epoch[0] Validation-accuracy=0.526042\u001b[0m\n",
      "\u001b[34m[09/02/2023 13:15:55 INFO 140011742922560] Storing the best model with validation accuracy: 0.526042\u001b[0m\n",
      "\u001b[34m[09/02/2023 13:15:55 INFO 140011742922560] Saved checkpoint to \"/opt/ml/model/image-classification-0001.params\"\u001b[0m\n",
      "\u001b[34m[09/02/2023 13:15:58 INFO 140011742922560] Epoch[1] Batch [20]#011Speed: 188.401 samples/sec#011accuracy=0.663690\u001b[0m\n",
      "\u001b[34m[09/02/2023 13:16:00 INFO 140011742922560] Epoch[1] Train-accuracy=0.658266\u001b[0m\n",
      "\u001b[34m[09/02/2023 13:16:00 INFO 140011742922560] Epoch[1] Time cost=5.146\u001b[0m\n",
      "\u001b[34m[09/02/2023 13:16:01 INFO 140011742922560] Epoch[1] Validation-accuracy=0.656250\u001b[0m\n",
      "\u001b[34m[09/02/2023 13:16:01 INFO 140011742922560] Storing the best model with validation accuracy: 0.656250\u001b[0m\n",
      "\u001b[34m[09/02/2023 13:16:01 INFO 140011742922560] Saved checkpoint to \"/opt/ml/model/image-classification-0002.params\"\u001b[0m\n",
      "\u001b[34m[09/02/2023 13:16:05 INFO 140011742922560] Epoch[2] Batch [20]#011Speed: 184.571 samples/sec#011accuracy=0.750000\u001b[0m\n",
      "\u001b[34m[09/02/2023 13:16:07 INFO 140011742922560] Epoch[2] Train-accuracy=0.750000\u001b[0m\n",
      "\u001b[34m[09/02/2023 13:16:07 INFO 140011742922560] Epoch[2] Time cost=5.118\u001b[0m\n",
      "\u001b[34m[09/02/2023 13:16:07 INFO 140011742922560] Epoch[2] Validation-accuracy=0.802083\u001b[0m\n",
      "\u001b[34m[09/02/2023 13:16:07 INFO 140011742922560] Storing the best model with validation accuracy: 0.802083\u001b[0m\n",
      "\u001b[34m[09/02/2023 13:16:08 INFO 140011742922560] Saved checkpoint to \"/opt/ml/model/image-classification-0003.params\"\u001b[0m\n",
      "\u001b[34m[09/02/2023 13:16:11 INFO 140011742922560] Epoch[3] Batch [20]#011Speed: 188.863 samples/sec#011accuracy=0.750000\u001b[0m\n",
      "\u001b[34m[09/02/2023 13:16:13 INFO 140011742922560] Epoch[3] Train-accuracy=0.774194\u001b[0m\n",
      "\u001b[34m[09/02/2023 13:16:13 INFO 140011742922560] Epoch[3] Time cost=5.054\u001b[0m\n",
      "\u001b[34m[09/02/2023 13:16:13 INFO 140011742922560] Epoch[3] Validation-accuracy=0.790179\u001b[0m\n",
      "\u001b[34m[09/02/2023 13:16:17 INFO 140011742922560] Epoch[4] Batch [20]#011Speed: 188.491 samples/sec#011accuracy=0.763393\u001b[0m\n",
      "\u001b[34m[09/02/2023 13:16:19 INFO 140011742922560] Epoch[4] Train-accuracy=0.782258\u001b[0m\n",
      "\u001b[34m[09/02/2023 13:16:19 INFO 140011742922560] Epoch[4] Time cost=5.057\u001b[0m\n",
      "\u001b[34m[09/02/2023 13:16:19 INFO 140011742922560] Epoch[4] Validation-accuracy=0.817708\u001b[0m\n",
      "\u001b[34m[09/02/2023 13:16:20 INFO 140011742922560] Storing the best model with validation accuracy: 0.817708\u001b[0m\n",
      "\u001b[34m[09/02/2023 13:16:20 INFO 140011742922560] Saved checkpoint to \"/opt/ml/model/image-classification-0005.params\"\u001b[0m\n",
      "\u001b[34m[09/02/2023 13:16:23 INFO 140011742922560] Epoch[5] Batch [20]#011Speed: 190.162 samples/sec#011accuracy=0.824405\u001b[0m\n",
      "\u001b[34m[09/02/2023 13:16:25 INFO 140011742922560] Epoch[5] Train-accuracy=0.800403\u001b[0m\n",
      "\u001b[34m[09/02/2023 13:16:25 INFO 140011742922560] Epoch[5] Time cost=5.007\u001b[0m\n",
      "\u001b[34m[09/02/2023 13:16:26 INFO 140011742922560] Epoch[5] Validation-accuracy=0.760417\u001b[0m\n",
      "\u001b[34m[09/02/2023 13:16:30 INFO 140011742922560] Epoch[6] Batch [20]#011Speed: 189.964 samples/sec#011accuracy=0.813988\u001b[0m\n",
      "\u001b[34m[09/02/2023 13:16:31 INFO 140011742922560] Epoch[6] Train-accuracy=0.809476\u001b[0m\n",
      "\u001b[34m[09/02/2023 13:16:31 INFO 140011742922560] Epoch[6] Time cost=5.029\u001b[0m\n",
      "\u001b[34m[09/02/2023 13:16:32 INFO 140011742922560] Epoch[6] Validation-accuracy=0.828125\u001b[0m\n",
      "\u001b[34m[09/02/2023 13:16:32 INFO 140011742922560] Storing the best model with validation accuracy: 0.828125\u001b[0m\n",
      "\u001b[34m[09/02/2023 13:16:32 INFO 140011742922560] Saved checkpoint to \"/opt/ml/model/image-classification-0007.params\"\u001b[0m\n",
      "\u001b[34m[09/02/2023 13:16:36 INFO 140011742922560] Epoch[7] Batch [20]#011Speed: 192.585 samples/sec#011accuracy=0.831845\u001b[0m\n",
      "\u001b[34m[09/02/2023 13:16:37 INFO 140011742922560] Epoch[7] Train-accuracy=0.832661\u001b[0m\n",
      "\u001b[34m[09/02/2023 13:16:37 INFO 140011742922560] Epoch[7] Time cost=4.973\u001b[0m\n",
      "\u001b[34m[09/02/2023 13:16:38 INFO 140011742922560] Epoch[7] Validation-accuracy=0.834821\u001b[0m\n",
      "\u001b[34m[09/02/2023 13:16:38 INFO 140011742922560] Storing the best model with validation accuracy: 0.834821\u001b[0m\n",
      "\u001b[34m[09/02/2023 13:16:39 INFO 140011742922560] Saved checkpoint to \"/opt/ml/model/image-classification-0008.params\"\u001b[0m\n",
      "\u001b[34m[09/02/2023 13:16:42 INFO 140011742922560] Epoch[8] Batch [20]#011Speed: 190.752 samples/sec#011accuracy=0.851190\u001b[0m\n",
      "\u001b[34m[09/02/2023 13:16:44 INFO 140011742922560] Epoch[8] Train-accuracy=0.838710\u001b[0m\n",
      "\u001b[34m[09/02/2023 13:16:44 INFO 140011742922560] Epoch[8] Time cost=4.995\u001b[0m\n",
      "\u001b[34m[09/02/2023 13:16:44 INFO 140011742922560] Epoch[8] Validation-accuracy=0.859375\u001b[0m\n",
      "\u001b[34m[09/02/2023 13:16:45 INFO 140011742922560] Storing the best model with validation accuracy: 0.859375\u001b[0m\n",
      "\u001b[34m[09/02/2023 13:16:45 INFO 140011742922560] Saved checkpoint to \"/opt/ml/model/image-classification-0009.params\"\u001b[0m\n",
      "\u001b[34m[09/02/2023 13:16:48 INFO 140011742922560] Epoch[9] Batch [20]#011Speed: 189.931 samples/sec#011accuracy=0.882440\u001b[0m\n",
      "\u001b[34m[09/02/2023 13:16:50 INFO 140011742922560] Epoch[9] Train-accuracy=0.876008\u001b[0m\n",
      "\u001b[34m[09/02/2023 13:16:50 INFO 140011742922560] Epoch[9] Time cost=5.010\u001b[0m\n",
      "\u001b[34m[09/02/2023 13:16:50 INFO 140011742922560] Epoch[9] Validation-accuracy=0.770833\u001b[0m\n",
      "\u001b[34m[09/02/2023 13:16:54 INFO 140011742922560] Epoch[10] Batch [20]#011Speed: 191.704 samples/sec#011accuracy=0.840774\u001b[0m\n",
      "\u001b[34m[09/02/2023 13:16:56 INFO 140011742922560] Epoch[10] Train-accuracy=0.837702\u001b[0m\n",
      "\u001b[34m[09/02/2023 13:16:56 INFO 140011742922560] Epoch[10] Time cost=5.003\u001b[0m\n",
      "\u001b[34m[09/02/2023 13:16:56 INFO 140011742922560] Epoch[10] Validation-accuracy=0.843750\u001b[0m\n",
      "\u001b[34m[09/02/2023 13:17:00 INFO 140011742922560] Epoch[11] Batch [20]#011Speed: 191.304 samples/sec#011accuracy=0.852679\u001b[0m\n",
      "\u001b[34m[09/02/2023 13:17:02 INFO 140011742922560] Epoch[11] Train-accuracy=0.852823\u001b[0m\n",
      "\u001b[34m[09/02/2023 13:17:02 INFO 140011742922560] Epoch[11] Time cost=5.074\u001b[0m\n",
      "\u001b[34m[09/02/2023 13:17:03 INFO 140011742922560] Epoch[11] Validation-accuracy=0.816964\u001b[0m\n",
      "\u001b[34m[09/02/2023 13:17:06 INFO 140011742922560] Epoch[12] Batch [20]#011Speed: 188.625 samples/sec#011accuracy=0.875000\u001b[0m\n",
      "\u001b[34m[09/02/2023 13:17:08 INFO 140011742922560] Epoch[12] Train-accuracy=0.875000\u001b[0m\n",
      "\u001b[34m[09/02/2023 13:17:08 INFO 140011742922560] Epoch[12] Time cost=5.033\u001b[0m\n",
      "\u001b[34m[09/02/2023 13:17:09 INFO 140011742922560] Epoch[12] Validation-accuracy=0.869792\u001b[0m\n",
      "\u001b[34m[09/02/2023 13:17:09 INFO 140011742922560] Storing the best model with validation accuracy: 0.869792\u001b[0m\n",
      "\u001b[34m[09/02/2023 13:17:09 INFO 140011742922560] Saved checkpoint to \"/opt/ml/model/image-classification-0013.params\"\u001b[0m\n",
      "\u001b[34m[09/02/2023 13:17:13 INFO 140011742922560] Epoch[13] Batch [20]#011Speed: 189.618 samples/sec#011accuracy=0.901786\u001b[0m\n",
      "\u001b[34m[09/02/2023 13:17:14 INFO 140011742922560] Epoch[13] Train-accuracy=0.903226\u001b[0m\n",
      "\u001b[34m[09/02/2023 13:17:14 INFO 140011742922560] Epoch[13] Time cost=5.007\u001b[0m\n",
      "\u001b[34m[09/02/2023 13:17:15 INFO 140011742922560] Epoch[13] Validation-accuracy=0.833333\u001b[0m\n",
      "\u001b[34m[09/02/2023 13:17:19 INFO 140011742922560] Epoch[14] Batch [20]#011Speed: 193.254 samples/sec#011accuracy=0.903274\u001b[0m\n",
      "\u001b[34m[09/02/2023 13:17:20 INFO 140011742922560] Epoch[14] Train-accuracy=0.887097\u001b[0m\n",
      "\u001b[34m[09/02/2023 13:17:20 INFO 140011742922560] Epoch[14] Time cost=4.948\u001b[0m\n",
      "\u001b[34m[09/02/2023 13:17:21 INFO 140011742922560] Epoch[14] Validation-accuracy=0.880208\u001b[0m\n",
      "\u001b[34m[09/02/2023 13:17:21 INFO 140011742922560] Storing the best model with validation accuracy: 0.880208\u001b[0m\n",
      "\u001b[34m[09/02/2023 13:17:22 INFO 140011742922560] Saved checkpoint to \"/opt/ml/model/image-classification-0015.params\"\u001b[0m\n",
      "\u001b[34m[09/02/2023 13:17:25 INFO 140011742922560] Epoch[15] Batch [20]#011Speed: 191.011 samples/sec#011accuracy=0.910714\u001b[0m\n",
      "\u001b[34m[09/02/2023 13:17:27 INFO 140011742922560] Epoch[15] Train-accuracy=0.907258\u001b[0m\n",
      "\u001b[34m[09/02/2023 13:17:27 INFO 140011742922560] Epoch[15] Time cost=5.003\u001b[0m\n",
      "\u001b[34m[09/02/2023 13:17:27 INFO 140011742922560] Epoch[15] Validation-accuracy=0.866071\u001b[0m\n",
      "\u001b[34m[09/02/2023 13:17:31 INFO 140011742922560] Epoch[16] Batch [20]#011Speed: 191.217 samples/sec#011accuracy=0.925595\u001b[0m\n",
      "\u001b[34m[09/02/2023 13:17:33 INFO 140011742922560] Epoch[16] Train-accuracy=0.909274\u001b[0m\n",
      "\u001b[34m[09/02/2023 13:17:33 INFO 140011742922560] Epoch[16] Time cost=4.991\u001b[0m\n",
      "\u001b[34m[09/02/2023 13:17:33 INFO 140011742922560] Epoch[16] Validation-accuracy=0.843750\u001b[0m\n",
      "\u001b[34m[09/02/2023 13:17:37 INFO 140011742922560] Epoch[17] Batch [20]#011Speed: 189.712 samples/sec#011accuracy=0.941964\u001b[0m\n",
      "\u001b[34m[09/02/2023 13:17:39 INFO 140011742922560] Epoch[17] Train-accuracy=0.932460\u001b[0m\n",
      "\u001b[34m[09/02/2023 13:17:39 INFO 140011742922560] Epoch[17] Time cost=5.005\u001b[0m\n",
      "\u001b[34m[09/02/2023 13:17:39 INFO 140011742922560] Epoch[17] Validation-accuracy=0.822917\u001b[0m\n",
      "\u001b[34m[09/02/2023 13:17:43 INFO 140011742922560] Epoch[18] Batch [20]#011Speed: 191.386 samples/sec#011accuracy=0.879464\u001b[0m\n",
      "\u001b[34m[09/02/2023 13:17:45 INFO 140011742922560] Epoch[18] Train-accuracy=0.893145\u001b[0m\n",
      "\u001b[34m[09/02/2023 13:17:45 INFO 140011742922560] Epoch[18] Time cost=4.981\u001b[0m\n",
      "\u001b[34m[09/02/2023 13:17:45 INFO 140011742922560] Epoch[18] Validation-accuracy=0.838542\u001b[0m\n",
      "\u001b[34m[09/02/2023 13:17:49 INFO 140011742922560] Epoch[19] Batch [20]#011Speed: 192.057 samples/sec#011accuracy=0.952381\u001b[0m\n",
      "\u001b[34m[09/02/2023 13:17:51 INFO 140011742922560] Epoch[19] Train-accuracy=0.937500\u001b[0m\n",
      "\u001b[34m[09/02/2023 13:17:51 INFO 140011742922560] Epoch[19] Time cost=4.980\u001b[0m\n",
      "\u001b[34m[09/02/2023 13:17:51 INFO 140011742922560] Epoch[19] Validation-accuracy=0.870536\u001b[0m\n",
      "\u001b[34m[09/02/2023 13:17:55 INFO 140011742922560] Epoch[20] Batch [20]#011Speed: 190.211 samples/sec#011accuracy=0.913690\u001b[0m\n",
      "\u001b[34m[09/02/2023 13:17:57 INFO 140011742922560] Epoch[20] Train-accuracy=0.919355\u001b[0m\n",
      "\u001b[34m[09/02/2023 13:17:57 INFO 140011742922560] Epoch[20] Time cost=5.023\u001b[0m\n",
      "\u001b[34m[09/02/2023 13:17:57 INFO 140011742922560] Epoch[20] Validation-accuracy=0.828125\u001b[0m\n",
      "\u001b[34m[09/02/2023 13:18:01 INFO 140011742922560] Epoch[21] Batch [20]#011Speed: 191.538 samples/sec#011accuracy=0.953869\u001b[0m\n",
      "\u001b[34m[09/02/2023 13:18:03 INFO 140011742922560] Epoch[21] Train-accuracy=0.956653\u001b[0m\n",
      "\u001b[34m[09/02/2023 13:18:03 INFO 140011742922560] Epoch[21] Time cost=5.086\u001b[0m\n",
      "\u001b[34m[09/02/2023 13:18:03 INFO 140011742922560] Epoch[21] Validation-accuracy=0.828125\u001b[0m\n",
      "\u001b[34m[09/02/2023 13:18:07 INFO 140011742922560] Epoch[22] Batch [20]#011Speed: 189.748 samples/sec#011accuracy=0.967262\u001b[0m\n",
      "\u001b[34m[09/02/2023 13:18:09 INFO 140011742922560] Epoch[22] Train-accuracy=0.955645\u001b[0m\n",
      "\u001b[34m[09/02/2023 13:18:09 INFO 140011742922560] Epoch[22] Time cost=5.011\u001b[0m\n",
      "\u001b[34m[09/02/2023 13:18:09 INFO 140011742922560] Epoch[22] Validation-accuracy=0.843750\u001b[0m\n",
      "\u001b[34m[09/02/2023 13:18:13 INFO 140011742922560] Epoch[23] Batch [20]#011Speed: 192.114 samples/sec#011accuracy=0.956845\u001b[0m\n",
      "\u001b[34m[09/02/2023 13:18:15 INFO 140011742922560] Epoch[23] Train-accuracy=0.949597\u001b[0m\n",
      "\u001b[34m[09/02/2023 13:18:15 INFO 140011742922560] Epoch[23] Time cost=4.959\u001b[0m\n",
      "\u001b[34m[09/02/2023 13:18:15 INFO 140011742922560] Epoch[23] Validation-accuracy=0.866071\u001b[0m\n",
      "\u001b[34m[09/02/2023 13:18:19 INFO 140011742922560] Epoch[24] Batch [20]#011Speed: 192.053 samples/sec#011accuracy=0.959821\u001b[0m\n",
      "\u001b[34m[09/02/2023 13:18:21 INFO 140011742922560] Epoch[24] Train-accuracy=0.967742\u001b[0m\n",
      "\u001b[34m[09/02/2023 13:18:21 INFO 140011742922560] Epoch[24] Time cost=4.993\u001b[0m\n",
      "\u001b[34m[09/02/2023 13:18:21 INFO 140011742922560] Epoch[24] Validation-accuracy=0.822917\u001b[0m\n",
      "\u001b[34m[09/02/2023 13:18:25 INFO 140011742922560] Epoch[25] Batch [20]#011Speed: 191.265 samples/sec#011accuracy=0.955357\u001b[0m\n",
      "\u001b[34m[09/02/2023 13:18:27 INFO 140011742922560] Epoch[25] Train-accuracy=0.960685\u001b[0m\n",
      "\u001b[34m[09/02/2023 13:18:27 INFO 140011742922560] Epoch[25] Time cost=4.994\u001b[0m\n",
      "\u001b[34m[09/02/2023 13:18:27 INFO 140011742922560] Epoch[25] Validation-accuracy=0.828125\u001b[0m\n",
      "\u001b[34m[09/02/2023 13:18:31 INFO 140011742922560] Epoch[26] Batch [20]#011Speed: 193.164 samples/sec#011accuracy=0.943452\u001b[0m\n",
      "\u001b[34m[09/02/2023 13:18:33 INFO 140011742922560] Epoch[26] Train-accuracy=0.952621\u001b[0m\n",
      "\u001b[34m[09/02/2023 13:18:33 INFO 140011742922560] Epoch[26] Time cost=4.947\u001b[0m\n",
      "\u001b[34m[09/02/2023 13:18:33 INFO 140011742922560] Epoch[26] Validation-accuracy=0.854167\u001b[0m\n",
      "\u001b[34m[09/02/2023 13:18:37 INFO 140011742922560] Epoch[27] Batch [20]#011Speed: 191.601 samples/sec#011accuracy=0.982143\u001b[0m\n",
      "\u001b[34m[09/02/2023 13:18:39 INFO 140011742922560] Epoch[27] Train-accuracy=0.977823\u001b[0m\n",
      "\u001b[34m[09/02/2023 13:18:39 INFO 140011742922560] Epoch[27] Time cost=4.969\u001b[0m\n",
      "\u001b[34m[09/02/2023 13:18:39 INFO 140011742922560] Epoch[27] Validation-accuracy=0.830357\u001b[0m\n",
      "\u001b[34m[09/02/2023 13:18:43 INFO 140011742922560] Epoch[28] Batch [20]#011Speed: 190.700 samples/sec#011accuracy=0.968750\u001b[0m\n",
      "\u001b[34m[09/02/2023 13:18:45 INFO 140011742922560] Epoch[28] Train-accuracy=0.962702\u001b[0m\n",
      "\u001b[34m[09/02/2023 13:18:45 INFO 140011742922560] Epoch[28] Time cost=5.012\u001b[0m\n",
      "\u001b[34m[09/02/2023 13:18:45 INFO 140011742922560] Epoch[28] Validation-accuracy=0.859375\u001b[0m\n",
      "\u001b[34m[09/02/2023 13:18:49 INFO 140011742922560] Epoch[29] Batch [20]#011Speed: 192.253 samples/sec#011accuracy=0.977679\u001b[0m\n",
      "\u001b[34m[09/02/2023 13:18:51 INFO 140011742922560] Epoch[29] Train-accuracy=0.977823\u001b[0m\n",
      "\u001b[34m[09/02/2023 13:18:51 INFO 140011742922560] Epoch[29] Time cost=4.971\u001b[0m\n",
      "\u001b[34m[09/02/2023 13:18:51 INFO 140011742922560] Epoch[29] Validation-accuracy=0.848958\u001b[0m\n",
      "\n",
      "2023-09-02 13:18:55 Uploading - Uploading generated training model\n",
      "2023-09-02 13:19:21 Completed - Training job completed\n",
      "Training seconds: 423\n",
      "Billable seconds: 423\n"
     ]
    }
   ],
   "source": [
    "## TODO: train your model\n",
    "img_classifier_model.fit(inputs=model_inputs)"
   ]
  },
  {
   "cell_type": "markdown",
   "metadata": {},
   "source": [
    "If all goes well, you'll end up with a model topping out above `.8` validation accuracy. With only 1000 training samples in the CIFAR dataset, that's pretty good. We could definitely pursue data augmentation & gathering more samples to help us improve further, but for now let's proceed to deploy our model.\n",
    "\n",
    "### Getting ready to deploy\n",
    "\n",
    "To begin with, let's configure Model Monitor to track our deployment. We'll define a `DataCaptureConfig` below:"
   ]
  },
  {
   "cell_type": "code",
   "execution_count": 125,
   "metadata": {
    "tags": []
   },
   "outputs": [],
   "source": [
    "from sagemaker.model_monitor import DataCaptureConfig\n",
    "\n",
    "data_capture_config = DataCaptureConfig(\n",
    "    enable_capture=True,                   # Whether to enable data capture or not\n",
    "    sampling_percentage=100,               # The percentage of inferences to capture (100% captures all inferences)\n",
    "    destination_s3_uri=f\"s3://{bucket}/data_capture\"\n",
    ")"
   ]
  },
  {
   "cell_type": "markdown",
   "metadata": {},
   "source": [
    "Note the `destination_s3_uri` parameter: At the end of the project, we can explore the `data_capture` directory in S3 to find crucial data about the inputs and outputs Model Monitor has observed on our model endpoint over time.\n",
    "\n",
    "With that done, deploy your model on a single `ml.m5.xlarge` instance with the data capture config attached:"
   ]
  },
  {
   "cell_type": "code",
   "execution_count": 126,
   "metadata": {
    "tags": []
   },
   "outputs": [
    {
     "name": "stderr",
     "output_type": "stream",
     "text": [
      "INFO:sagemaker:Creating model with name: image-classification-2023-09-02-13-20-58-714\n",
      "INFO:sagemaker:Creating endpoint-config with name image-classification-2023-09-02-13-20-58-714\n",
      "INFO:sagemaker:Creating endpoint with name image-classification-2023-09-02-13-20-58-714\n"
     ]
    },
    {
     "name": "stdout",
     "output_type": "stream",
     "text": [
      "--------!image-classification-2023-09-02-13-20-58-714\n"
     ]
    }
   ],
   "source": [
    "deployment = img_classifier_model.deploy(\n",
    "    ## TODO: fill in deployment options\n",
    "    initial_instance_count=1, \n",
    "    instance_type='ml.m5.xlarge',\n",
    "    data_capture_config=data_capture_config\n",
    "    )\n",
    "\n",
    "endpoint = deployment.endpoint_name\n",
    "print(endpoint)"
   ]
  },
  {
   "cell_type": "markdown",
   "metadata": {},
   "source": [
    "Note the endpoint name for later as well.\n",
    "\n",
    "Next, instantiate a Predictor:"
   ]
  },
  {
   "cell_type": "code",
   "execution_count": 127,
   "metadata": {
    "tags": []
   },
   "outputs": [],
   "source": [
    "predictor = sagemaker.predictor.Predictor(\n",
    "                endpoint_name=endpoint,\n",
    "            ) "
   ]
  },
  {
   "cell_type": "markdown",
   "metadata": {},
   "source": [
    "In the code snippet below we are going to prepare one of your saved images for prediction. Use the predictor to process the `payload`."
   ]
  },
  {
   "cell_type": "code",
   "execution_count": 128,
   "metadata": {
    "tags": []
   },
   "outputs": [],
   "source": [
    "from sagemaker.serializers import IdentitySerializer\n",
    "import base64\n",
    "\n",
    "predictor.serializer = IdentitySerializer(\"image/png\")\n",
    "with open(\"./test/bicycle_s_001789.png\", \"rb\") as f:\n",
    "    payload = f.read()\n",
    "\n",
    "    \n",
    "inference = predictor.predict(payload)"
   ]
  },
  {
   "cell_type": "markdown",
   "metadata": {},
   "source": [
    "Your `inference` object is an array of two values, the predicted probability value for each of your classes (bicycle and motorcycle respectively.) So, for example, a value of `b'[0.91, 0.09]'` indicates the probability of being a bike is 91% and being a motorcycle is 9%."
   ]
  },
  {
   "cell_type": "code",
   "execution_count": 129,
   "metadata": {
    "tags": []
   },
   "outputs": [
    {
     "name": "stdout",
     "output_type": "stream",
     "text": [
      "b'[0.8707022070884705, 0.12929776310920715]'\n"
     ]
    }
   ],
   "source": [
    "print(inference)"
   ]
  },
  {
   "cell_type": "markdown",
   "metadata": {},
   "source": [
    "### Draft Lambdas and Step Function Workflow\n",
    "\n",
    "Your operations team uses Step Functions to orchestrate serverless workflows. One of the nice things about Step Functions is that [workflows can call other workflows](https://docs.aws.amazon.com/step-functions/latest/dg/connect-stepfunctions.html), so the team can easily plug your workflow into the broader production architecture for Scones Unlimited.\n",
    "\n",
    "In this next stage you're going to write and deploy three Lambda functions, and then use the Step Functions visual editor to chain them together! Our functions are going to work with a simple data object:\n",
    "\n",
    "```python\n",
    "{\n",
    "    \"inferences\": [], # Output of predictor.predict\n",
    "    \"s3_key\": \"\", # Source data S3 key\n",
    "    \"s3_bucket\": \"\", # Source data S3 bucket\n",
    "    \"image_data\": \"\"  # base64 encoded string containing the image data\n",
    "}\n",
    "```\n",
    "\n",
    "A good test object that you can use for Lambda tests and Step Function executions, throughout the next section, might look like this:\n",
    "\n",
    "```python\n",
    "{\n",
    "  \"image_data\": \"\",\n",
    "  \"s3_bucket\": MY_BUCKET_NAME, # Fill in with your bucket\n",
    "  \"s3_key\": \"test/bicycle_s_000513.png\"\n",
    "}\n",
    "```\n",
    "\n",
    "Using these fields, your functions can read and write the necessary data to execute your workflow. Let's start with the first function. Your first Lambda function will copy an object from S3, base64 encode it, and then return it to the step function as `image_data` in an event.\n",
    "\n",
    "Go to the Lambda dashboard and create a new Lambda function with a descriptive name like \"serializeImageData\" and select thr 'Python 3.8' runtime. Add the same permissions as the SageMaker role you created earlier. (Reminder: you do this in the Configuration tab under \"Permissions\"). Once you're ready, use the starter code below to craft your Lambda handler:\n",
    "\n",
    "```python\n",
    "import json\n",
    "import boto3\n",
    "import base64\n",
    "\n",
    "s3 = boto3.client('s3')\n",
    "\n",
    "def lambda_handler(event, context):\n",
    "    \"\"\"A function to serialize target data from S3\"\"\"\n",
    "    \n",
    "    # Get the s3 address from the Step Function event input\n",
    "    key = ## TODO: fill in\n",
    "    bucket = ## TODO: fill in\n",
    "    \n",
    "    # Download the data from s3 to /tmp/image.png\n",
    "    ## TODO: fill in\n",
    "    \n",
    "    # We read the data from a file\n",
    "    with open(\"/tmp/image.png\", \"rb\") as f:\n",
    "        image_data = base64.b64encode(f.read())\n",
    "\n",
    "    # Pass the data back to the Step Function\n",
    "    print(\"Event:\", event.keys())\n",
    "    return {\n",
    "        'statusCode': 200,\n",
    "        'body': {\n",
    "            \"image_data\": image_data,\n",
    "            \"s3_bucket\": bucket,\n",
    "            \"s3_key\": key,\n",
    "            \"inferences\": []\n",
    "        }\n",
    "    }\n",
    "```\n",
    "\n",
    "The next function is responsible for the classification part - we're going to take the image output from the previous function, decode it, and then pass inferences back to the the Step Function.\n",
    "\n",
    "Because this Lambda will have runtime dependencies (i.e. the SageMaker SDK) you'll need to package them in your function. *Key reading:* https://docs.aws.amazon.com/lambda/latest/dg/python-package-create.html#python-package-create-with-dependency\n",
    "\n",
    "Create a new Lambda function with the same rights and a descriptive name, then fill in the starter code below for your classifier Lambda.\n",
    "\n",
    "```python\n",
    "import json\n",
    "import sagemaker\n",
    "import base64\n",
    "from sagemaker.serializers import IdentitySerializer\n",
    "\n",
    "# Fill this in with the name of your deployed model\n",
    "ENDPOINT = ## TODO: fill in\n",
    "\n",
    "def lambda_handler(event, context):\n",
    "\n",
    "    # Decode the image data\n",
    "    image = base64.b64decode(## TODO: fill in)\n",
    "\n",
    "    # Instantiate a Predictor\n",
    "    predictor = ## TODO: fill in\n",
    "\n",
    "    # For this model the IdentitySerializer needs to be \"image/png\"\n",
    "    predictor.serializer = IdentitySerializer(\"image/png\")\n",
    "    \n",
    "    # Make a prediction:\n",
    "    inferences = ## TODO: fill in\n",
    "    \n",
    "    # We return the data back to the Step Function    \n",
    "    event[\"inferences\"] = inferences.decode('utf-8')\n",
    "    return {\n",
    "        'statusCode': 200,\n",
    "        'body': json.dumps(event)\n",
    "    }\n",
    "```\n",
    "\n",
    "Finally, we need to filter low-confidence inferences. Define a threshold between 1.00 and 0.000 for your model: what is reasonble for you? If the model predicts at `.70` for it's highest confidence label, do we want to pass that inference along to downstream systems? Make one last Lambda function and tee up the same permissions:\n",
    "\n",
    "```python\n",
    "import json\n",
    "\n",
    "\n",
    "THRESHOLD = .93\n",
    "\n",
    "\n",
    "def lambda_handler(event, context):\n",
    "    \n",
    "    # Grab the inferences from the event\n",
    "    inferences = ## TODO: fill in\n",
    "    \n",
    "    # Check if any values in our inferences are above THRESHOLD\n",
    "    meets_threshold = ## TODO: fill in\n",
    "    \n",
    "    # If our threshold is met, pass our data back out of the\n",
    "    # Step Function, else, end the Step Function with an error\n",
    "    if meets_threshold:\n",
    "        pass\n",
    "    else:\n",
    "        raise(\"THRESHOLD_CONFIDENCE_NOT_MET\")\n",
    "\n",
    "    return {\n",
    "        'statusCode': 200,\n",
    "        'body': json.dumps(event)\n",
    "    }\n",
    "```\n",
    "Once you have tested the lambda functions, save the code for each lambda function in a python script called 'lambda.py'.\n",
    "\n",
    "With your lambdas in place, you can use the Step Functions visual editor to construct a workflow that chains them together. In the Step Functions console you'll have the option to author a Standard step function *Visually*.\n",
    "\n",
    "When the visual editor opens, you'll have many options to add transitions in your workflow. We're going to keep it simple and have just one: to invoke Lambda functions. Add three of them chained together. For each one, you'll be able to select the Lambda functions you just created in the proper order, filter inputs and outputs, and give them descriptive names.\n",
    "\n",
    "Make sure that you:\n",
    "\n",
    "1. Are properly filtering the inputs and outputs of your invokations (e.g. `$.body`)\n",
    "2. Take care to remove the error handling from the last function - it's supposed to \"fail loudly\" for your operations colleagues!\n",
    "\n",
    "Take a screenshot of your working step function in action and export the step function as JSON for your submission package."
   ]
  },
  {
   "cell_type": "markdown",
   "metadata": {},
   "source": [
    "\n",
    "Great! Now you can use the files in `./test` as test files for our workflow. Depending on our threshold, our workflow should reliably pass predictions about images from `./test` on to downstream systems, while erroring out for inferences below our confidence threshold!\n",
    "\n",
    "### Testing and Evaluation\n",
    "\n",
    "Do several step function invokations using data from the `./test` folder. This process should give you confidence that the workflow both *succeeds* AND *fails* as expected. In addition, SageMaker Model Monitor will generate recordings of your data and inferences which we can visualize.\n",
    "\n",
    "Here's a function that can help you generate test inputs for your invokations:"
   ]
  },
  {
   "cell_type": "code",
   "execution_count": 114,
   "metadata": {},
   "outputs": [
    {
     "data": {
      "text/plain": [
       "'{\"image_data\": \"\", \"s3_bucket\": \"sagemaker-us-east-1-330638464358\", \"s3_key\": \"test/motorbike_s_000135.png\"}'"
      ]
     },
     "execution_count": 114,
     "metadata": {},
     "output_type": "execute_result"
    }
   ],
   "source": [
    "import random\n",
    "import boto3\n",
    "import json\n",
    "\n",
    "\n",
    "def generate_test_case():\n",
    "    # Setup s3 in boto3\n",
    "    s3 = boto3.resource('s3')\n",
    "    \n",
    "    # Randomly pick from sfn or test folders in our bucket\n",
    "    objects = s3.Bucket(bucket).objects.filter(Prefix=\"test\")\n",
    "    \n",
    "    # Grab any random object key from that folder!\n",
    "    obj = random.choice([x.key for x in objects])\n",
    "    \n",
    "    return json.dumps({\n",
    "        \"image_data\": \"\",\n",
    "        \"s3_bucket\": bucket,\n",
    "        \"s3_key\": obj\n",
    "    })\n",
    "generate_test_case()"
   ]
  },
  {
   "cell_type": "markdown",
   "metadata": {},
   "source": [
    "In the Step Function dashboard for your new function, you can create new executions and copy in the generated test cases. Do several executions so that you can generate data you can evaluate and visualize.\n",
    "\n",
    "Once you've done several executions, let's visualize the record of our inferences. Pull in the JSONLines data from your inferences like so:"
   ]
  },
  {
   "cell_type": "code",
   "execution_count": 102,
   "metadata": {},
   "outputs": [
    {
     "data": {
      "text/plain": [
       "['captured_data/00-16-411-e52198be-0a15-4b7f-a2e1-352a0eb17f5d.jsonl',\n",
       " 'captured_data/05-15-571-b3e7823d-8476-49a4-8299-3fd568181149.jsonl',\n",
       " 'captured_data/06-20-744-b9ac9513-ef7e-4ca1-94f5-07502294dcd6.jsonl',\n",
       " 'captured_data/08-45-726-51dfc534-0508-494d-aea1-d0f236e26ece.jsonl']"
      ]
     },
     "execution_count": 102,
     "metadata": {},
     "output_type": "execute_result"
    }
   ],
   "source": [
    "from sagemaker.s3 import S3Downloader\n",
    "\n",
    "# In S3 your data will be saved to a datetime-aware path\n",
    "# Find a path related to a datetime you're interested in\n",
    "data_path = f\"s3://{bucket}/data_capture/image-classification-2023-09-02-13-20-58-714/AllTraffic/2023/09/03/17/\" ## TODO: fill in the path to your captured data\n",
    "\n",
    "S3Downloader.download(data_path, \"captured_data\")\n",
    "\n",
    "# Feel free to repeat this multiple times and pull in more data"
   ]
  },
  {
   "cell_type": "markdown",
   "metadata": {},
   "source": [
    "The data are in JSONLines format, where multiple valid JSON objects are stacked on top of eachother in a single `jsonl` file. We'll import an open-source library, `jsonlines` that was purpose built for parsing this format."
   ]
  },
  {
   "cell_type": "code",
   "execution_count": 60,
   "metadata": {},
   "outputs": [
    {
     "name": "stdout",
     "output_type": "stream",
     "text": [
      "Requirement already satisfied: jsonlines in /opt/conda/lib/python3.10/site-packages (4.0.0)\n",
      "Requirement already satisfied: attrs>=19.2.0 in /opt/conda/lib/python3.10/site-packages (from jsonlines) (23.1.0)\n",
      "\u001b[33mWARNING: Running pip as the 'root' user can result in broken permissions and conflicting behaviour with the system package manager. It is recommended to use a virtual environment instead: https://pip.pypa.io/warnings/venv\u001b[0m\u001b[33m\n",
      "\u001b[0m"
     ]
    }
   ],
   "source": [
    "!pip install jsonlines\n",
    "import jsonlines"
   ]
  },
  {
   "cell_type": "markdown",
   "metadata": {},
   "source": [
    "Now we can extract the data from each of the source files:"
   ]
  },
  {
   "cell_type": "code",
   "execution_count": 104,
   "metadata": {},
   "outputs": [
    {
     "name": "stdout",
     "output_type": "stream",
     "text": [
      "47-30-002-14bfe92c-e3e1-46d5-8b74-a1ae152dc1c0.jsonl\n",
      "05-15-571-b3e7823d-8476-49a4-8299-3fd568181149.jsonl\n",
      "58-57-864-884f59cd-cbf7-4076-a73c-b0e565fe89af.jsonl\n",
      "48-44-100-c518e92c-fe57-4cf1-8d8f-3fb9681da87f.jsonl\n",
      "55-05-777-f31f9cb2-78b3-4b61-b641-7b6d423d70b8.jsonl\n",
      "51-24-527-7639f797-a659-48ee-a4f0-be6eb785313f.jsonl\n",
      "46-07-370-931cd027-dbe3-4ef8-924e-82b36643ac4d.jsonl\n",
      "49-45-286-fa4cf2fb-8517-4c93-b94a-c84cb8378cc2.jsonl\n",
      "00-16-411-e52198be-0a15-4b7f-a2e1-352a0eb17f5d.jsonl\n",
      "06-20-744-b9ac9513-ef7e-4ca1-94f5-07502294dcd6.jsonl\n",
      "56-48-101-d9b0ca74-17a7-42d9-9c69-67fb1ad9f02c.jsonl\n",
      "52-36-943-79dfc75c-4551-4a3c-a9b9-dc911ec51f6e.jsonl\n",
      "58-07-141-6ecaa33b-8eca-474c-9ca4-12c54796d823.jsonl\n",
      "08-45-726-51dfc534-0508-494d-aea1-d0f236e26ece.jsonl\n"
     ]
    }
   ],
   "source": [
    "import os\n",
    "\n",
    "# List the file names we downloaded\n",
    "file_handles = os.listdir(\"./captured_data\")\n",
    "\n",
    "# Dump all the data into an array\n",
    "json_data = []\n",
    "for jsonl in file_handles:\n",
    "    print(jsonl)\n",
    "    try:\n",
    "        with jsonlines.open(f\"./captured_data/{jsonl}\") as f:\n",
    "            json_data.append(f.read())\n",
    "    except:\n",
    "        pass"
   ]
  },
  {
   "cell_type": "code",
   "execution_count": 105,
   "metadata": {
    "tags": []
   },
   "outputs": [
    {
     "data": {
      "text/plain": [
       "14"
      ]
     },
     "execution_count": 105,
     "metadata": {},
     "output_type": "execute_result"
    }
   ],
   "source": [
    "len(json_data)"
   ]
  },
  {
   "cell_type": "markdown",
   "metadata": {},
   "source": [
    "The data should now be a list of dictionaries, with significant nesting. We'll give you an example of some code that grabs data out of the objects and visualizes it:"
   ]
  },
  {
   "cell_type": "code",
   "execution_count": 106,
   "metadata": {},
   "outputs": [
    {
     "data": {
      "text/plain": [
       "([0.012749234214425087, 0.987250804901123], '2023-09-03T16:47:30Z')"
      ]
     },
     "execution_count": 106,
     "metadata": {},
     "output_type": "execute_result"
    }
   ],
   "source": [
    "# Define how we'll get our data\n",
    "def simple_getter(obj):\n",
    "    inferences = obj[\"captureData\"][\"endpointOutput\"][\"data\"]\n",
    "    timestamp = obj[\"eventMetadata\"][\"inferenceTime\"]\n",
    "    return json.loads(inferences), timestamp\n",
    "\n",
    "simple_getter(json_data[0])"
   ]
  },
  {
   "cell_type": "code",
   "execution_count": 91,
   "metadata": {
    "tags": []
   },
   "outputs": [
    {
     "data": {
      "text/plain": [
       "{'observedContentType': 'application/json',\n",
       " 'mode': 'OUTPUT',\n",
       " 'data': '[0.012749234214425087, 0.987250804901123]',\n",
       " 'encoding': 'JSON'}"
      ]
     },
     "execution_count": 91,
     "metadata": {},
     "output_type": "execute_result"
    }
   ],
   "source": [
    "json_data[0][\"captureData\"][\"endpointOutput\"]"
   ]
  },
  {
   "cell_type": "markdown",
   "metadata": {},
   "source": [
    "Finally, here's an example of a visualization you can build with this data. In this last part, you will take some time and build your own - the captured data has the input images, the resulting inferences, and the timestamps."
   ]
  },
  {
   "cell_type": "code",
   "execution_count": 115,
   "metadata": {},
   "outputs": [
    {
     "data": {
      "image/png": "[encoded data removed]",
      "text/plain": [
       "<Figure size 640x480 with 1 Axes>"
      ]
     },
     "metadata": {},
     "output_type": "display_data"
    }
   ],
   "source": [
    "import matplotlib.pyplot as plt\n",
    "\n",
    "# Populate the data for the x and y axis\n",
    "x = []\n",
    "y = []\n",
    "for obj in json_data:\n",
    "    inference, timestamp = simple_getter(obj)\n",
    "    \n",
    "    y.append(max(inference))\n",
    "    x.append(timestamp)\n",
    "\n",
    "# Todo: here is an visualization example, take some time to build another visual that helps monitor the result\n",
    "# Plot the data\n",
    "plt.scatter(x, y, c=['r' if k<.93 else 'b' for k in y ])\n",
    "plt.axhline(y=0.93, color='g', linestyle='--')\n",
    "plt.ylim(bottom=.5)\n",
    "\n",
    "# Add labels\n",
    "plt.ylabel(\"Confidence\")\n",
    "plt.suptitle(\"Observed Recent Inferences\", size=14)\n",
    "plt.title(\"Pictured with confidence threshold for production use\", size=10)\n",
    "\n",
    "# Give it some pizzaz!\n",
    "plt.style.use(\"Solarize_Light2\")\n",
    "plt.gcf().autofmt_xdate()"
   ]
  },
  {
   "cell_type": "markdown",
   "metadata": {
    "tags": []
   },
   "source": [
    "### Todo: build your own visualization\n"
   ]
  },
  {
   "cell_type": "code",
   "execution_count": 109,
   "metadata": {
    "tags": []
   },
   "outputs": [
    {
     "data": {
      "image/png": "[encoded data removed]",
      "text/plain": [
       "<Figure size 640x480 with 1 Axes>"
      ]
     },
     "metadata": {},
     "output_type": "display_data"
    }
   ],
   "source": [
    "import matplotlib.pyplot as plt\n",
    "\n",
    "# Populate maximum inference values\n",
    "x = []\n",
    "\n",
    "# Define a threshold for success\n",
    "threshold = 0.93\n",
    "\n",
    "# Counters for successful and failed inferences\n",
    "successful_count = 0\n",
    "failed_count = 0\n",
    "\n",
    "for obj in json_data:\n",
    "    inference, timestamp = simple_getter(obj)\n",
    "\n",
    "    # Calculate the maximum value from the inference list\n",
    "    max_inference = max(inference)\n",
    "\n",
    "    # Append the max_inference to the x list\n",
    "    x.append(max_inference)\n",
    "\n",
    "    # Check if the inference is successful (above threshold)\n",
    "    if max_inference > threshold:\n",
    "        successful_count += 1\n",
    "    else:\n",
    "        failed_count += 1\n",
    "\n",
    "# Create a pie chart\n",
    "labels = 'Successful', 'Failed \\n(below confidence threshold)'\n",
    "sizes = [successful_count, failed_count]\n",
    "colors = ['green', 'red']\n",
    "explode = (0.1, 0)  # explode the \"Successful\" slice\n",
    "\n",
    "plt.pie(sizes, explode=explode, labels=labels, colors=colors, autopct='%1.1f%%', shadow=True, startangle=140)\n",
    "plt.axis('equal')  # Equal aspect ratio ensures that pie is drawn as a circle.\n",
    "\n",
    "# Add a title\n",
    "plt.title('Inference Results')\n",
    "\n",
    "# Display the pie chart\n",
    "plt.show()"
   ]
  },
  {
   "cell_type": "code",
   "execution_count": 107,
   "metadata": {
    "tags": []
   },
   "outputs": [
    {
     "data": {
      "image/png": "[encoded data removed]",
      "text/plain": [
       "<Figure size 640x480 with 1 Axes>"
      ]
     },
     "metadata": {},
     "output_type": "display_data"
    }
   ],
   "source": [
    "import matplotlib.pyplot as plt\n",
    "\n",
    "# Populate the data for the pie chart\n",
    "bike_count = 0\n",
    "motorcycle_count = 0\n",
    "\n",
    "for obj in json_data:\n",
    "    inference, timestamp = simple_getter(obj)\n",
    "    \n",
    "    # Extract the probabilities for bike and motorcycle\n",
    "    probability_bike = inference[0]\n",
    "    probability_motorcycle = inference[1]\n",
    "\n",
    "    # Check if the inference is for a bike\n",
    "    if probability_bike > probability_motorcycle:\n",
    "        bike_count += 1\n",
    "    else:\n",
    "        motorcycle_count += 1\n",
    "\n",
    "# Create a pie chart\n",
    "labels = 'Bike', 'Motorcycle'\n",
    "sizes = [bike_count, motorcycle_count]\n",
    "colors = ['blue', 'orange']\n",
    "explode = (0.1, 0)  # explode the \"Bike\" slice\n",
    "\n",
    "plt.pie(sizes, explode=explode, labels=labels, colors=colors, autopct='%1.1f%%', shadow=True, startangle=140)\n",
    "plt.axis('equal')  # Equal aspect ratio ensures that pie is drawn as a circle.\n",
    "\n",
    "# Add a title\n",
    "plt.title('Predicted Vehicles')\n",
    "\n",
    "# Display the pie chart\n",
    "plt.show()\n"
   ]
  },
  {
   "cell_type": "markdown",
   "metadata": {},
   "source": [
    "### Congratulations!\n",
    "\n",
    "You've reached the end of the project. In this project you created an event-drivent ML workflow that can be incorporated into the Scones Unlimited production architecture. You used the SageMaker Estimator API to deploy your SageMaker Model and Endpoint, and you used AWS Lambda and Step Functions to orchestrate your ML workflow. Using SageMaker Model Monitor, you instrumented and observed your Endpoint, and at the end of the project you built a visualization to help stakeholders understand the performance of the Endpoint over time. If you're up for it, you can even go further with these stretch goals:\n",
    "\n",
    "* Extend your workflow to incorporate more classes: the CIFAR dataset includes other vehicles that Scones Unlimited can identify with this model.\n",
    "* Modify your event driven workflow: can you rewrite your Lambda functions so that the workflow can process multiple image inputs in parallel? Can the Step Function \"fan out\" to accomodate this new workflow?\n",
    "* Consider the test data generator we provided for you. Can we use it to create a \"dummy data\" generator, to simulate a continuous stream of input data? Or a big paralell load of data?\n",
    "* What if we want to get notified every time our step function errors out? Can we use the Step Functions visual editor in conjunction with a service like SNS to accomplish this? Try it out!\n",
    "\n",
    "\n"
   ]
  }
 ],
 "metadata": {
  "availableInstances": [
   {
    "_defaultOrder": 0,
    "_isFastLaunch": true,
    "category": "General purpose",
    "gpuNum": 0,
    "hideHardwareSpecs": false,
    "memoryGiB": 4,
    "name": "ml.t3.medium",
    "vcpuNum": 2
   },
   {
    "_defaultOrder": 1,
    "_isFastLaunch": false,
    "category": "General purpose",
    "gpuNum": 0,
    "hideHardwareSpecs": false,
    "memoryGiB": 8,
    "name": "ml.t3.large",
    "vcpuNum": 2
   },
   {
    "_defaultOrder": 2,
    "_isFastLaunch": false,
    "category": "General purpose",
    "gpuNum": 0,
    "hideHardwareSpecs": false,
    "memoryGiB": 16,
    "name": "ml.t3.xlarge",
    "vcpuNum": 4
   },
   {
    "_defaultOrder": 3,
    "_isFastLaunch": false,
    "category": "General purpose",
    "gpuNum": 0,
    "hideHardwareSpecs": false,
    "memoryGiB": 32,
    "name": "ml.t3.2xlarge",
    "vcpuNum": 8
   },
   {
    "_defaultOrder": 4,
    "_isFastLaunch": true,
    "category": "General purpose",
    "gpuNum": 0,
    "hideHardwareSpecs": false,
    "memoryGiB": 8,
    "name": "ml.m5.large",
    "vcpuNum": 2
   },
   {
    "_defaultOrder": 5,
    "_isFastLaunch": false,
    "category": "General purpose",
    "gpuNum": 0,
    "hideHardwareSpecs": false,
    "memoryGiB": 16,
    "name": "ml.m5.xlarge",
    "vcpuNum": 4
   },
   {
    "_defaultOrder": 6,
    "_isFastLaunch": false,
    "category": "General purpose",
    "gpuNum": 0,
    "hideHardwareSpecs": false,
    "memoryGiB": 32,
    "name": "ml.m5.2xlarge",
    "vcpuNum": 8
   },
   {
    "_defaultOrder": 7,
    "_isFastLaunch": false,
    "category": "General purpose",
    "gpuNum": 0,
    "hideHardwareSpecs": false,
    "memoryGiB": 64,
    "name": "ml.m5.4xlarge",
    "vcpuNum": 16
   },
   {
    "_defaultOrder": 8,
    "_isFastLaunch": false,
    "category": "General purpose",
    "gpuNum": 0,
    "hideHardwareSpecs": false,
    "memoryGiB": 128,
    "name": "ml.m5.8xlarge",
    "vcpuNum": 32
   },
   {
    "_defaultOrder": 9,
    "_isFastLaunch": false,
    "category": "General purpose",
    "gpuNum": 0,
    "hideHardwareSpecs": false,
    "memoryGiB": 192,
    "name": "ml.m5.12xlarge",
    "vcpuNum": 48
   },
   {
    "_defaultOrder": 10,
    "_isFastLaunch": false,
    "category": "General purpose",
    "gpuNum": 0,
    "hideHardwareSpecs": false,
    "memoryGiB": 256,
    "name": "ml.m5.16xlarge",
    "vcpuNum": 64
   },
   {
    "_defaultOrder": 11,
    "_isFastLaunch": false,
    "category": "General purpose",
    "gpuNum": 0,
    "hideHardwareSpecs": false,
    "memoryGiB": 384,
    "name": "ml.m5.24xlarge",
    "vcpuNum": 96
   },
   {
    "_defaultOrder": 12,
    "_isFastLaunch": false,
    "category": "General purpose",
    "gpuNum": 0,
    "hideHardwareSpecs": false,
    "memoryGiB": 8,
    "name": "ml.m5d.large",
    "vcpuNum": 2
   },
   {
    "_defaultOrder": 13,
    "_isFastLaunch": false,
    "category": "General purpose",
    "gpuNum": 0,
    "hideHardwareSpecs": false,
    "memoryGiB": 16,
    "name": "ml.m5d.xlarge",
    "vcpuNum": 4
   },
   {
    "_defaultOrder": 14,
    "_isFastLaunch": false,
    "category": "General purpose",
    "gpuNum": 0,
    "hideHardwareSpecs": false,
    "memoryGiB": 32,
    "name": "ml.m5d.2xlarge",
    "vcpuNum": 8
   },
   {
    "_defaultOrder": 15,
    "_isFastLaunch": false,
    "category": "General purpose",
    "gpuNum": 0,
    "hideHardwareSpecs": false,
    "memoryGiB": 64,
    "name": "ml.m5d.4xlarge",
    "vcpuNum": 16
   },
   {
    "_defaultOrder": 16,
    "_isFastLaunch": false,
    "category": "General purpose",
    "gpuNum": 0,
    "hideHardwareSpecs": false,
    "memoryGiB": 128,
    "name": "ml.m5d.8xlarge",
    "vcpuNum": 32
   },
   {
    "_defaultOrder": 17,
    "_isFastLaunch": false,
    "category": "General purpose",
    "gpuNum": 0,
    "hideHardwareSpecs": false,
    "memoryGiB": 192,
    "name": "ml.m5d.12xlarge",
    "vcpuNum": 48
   },
   {
    "_defaultOrder": 18,
    "_isFastLaunch": false,
    "category": "General purpose",
    "gpuNum": 0,
    "hideHardwareSpecs": false,
    "memoryGiB": 256,
    "name": "ml.m5d.16xlarge",
    "vcpuNum": 64
   },
   {
    "_defaultOrder": 19,
    "_isFastLaunch": false,
    "category": "General purpose",
    "gpuNum": 0,
    "hideHardwareSpecs": false,
    "memoryGiB": 384,
    "name": "ml.m5d.24xlarge",
    "vcpuNum": 96
   },
   {
    "_defaultOrder": 20,
    "_isFastLaunch": false,
    "category": "General purpose",
    "gpuNum": 0,
    "hideHardwareSpecs": true,
    "memoryGiB": 0,
    "name": "ml.geospatial.interactive",
    "supportedImageNames": [
     "sagemaker-geospatial-v1-0"
    ],
    "vcpuNum": 0
   },
   {
    "_defaultOrder": 21,
    "_isFastLaunch": true,
    "category": "Compute optimized",
    "gpuNum": 0,
    "hideHardwareSpecs": false,
    "memoryGiB": 4,
    "name": "ml.c5.large",
    "vcpuNum": 2
   },
   {
    "_defaultOrder": 22,
    "_isFastLaunch": false,
    "category": "Compute optimized",
    "gpuNum": 0,
    "hideHardwareSpecs": false,
    "memoryGiB": 8,
    "name": "ml.c5.xlarge",
    "vcpuNum": 4
   },
   {
    "_defaultOrder": 23,
    "_isFastLaunch": false,
    "category": "Compute optimized",
    "gpuNum": 0,
    "hideHardwareSpecs": false,
    "memoryGiB": 16,
    "name": "ml.c5.2xlarge",
    "vcpuNum": 8
   },
   {
    "_defaultOrder": 24,
    "_isFastLaunch": false,
    "category": "Compute optimized",
    "gpuNum": 0,
    "hideHardwareSpecs": false,
    "memoryGiB": 32,
    "name": "ml.c5.4xlarge",
    "vcpuNum": 16
   },
   {
    "_defaultOrder": 25,
    "_isFastLaunch": false,
    "category": "Compute optimized",
    "gpuNum": 0,
    "hideHardwareSpecs": false,
    "memoryGiB": 72,
    "name": "ml.c5.9xlarge",
    "vcpuNum": 36
   },
   {
    "_defaultOrder": 26,
    "_isFastLaunch": false,
    "category": "Compute optimized",
    "gpuNum": 0,
    "hideHardwareSpecs": false,
    "memoryGiB": 96,
    "name": "ml.c5.12xlarge",
    "vcpuNum": 48
   },
   {
    "_defaultOrder": 27,
    "_isFastLaunch": false,
    "category": "Compute optimized",
    "gpuNum": 0,
    "hideHardwareSpecs": false,
    "memoryGiB": 144,
    "name": "ml.c5.18xlarge",
    "vcpuNum": 72
   },
   {
    "_defaultOrder": 28,
    "_isFastLaunch": false,
    "category": "Compute optimized",
    "gpuNum": 0,
    "hideHardwareSpecs": false,
    "memoryGiB": 192,
    "name": "ml.c5.24xlarge",
    "vcpuNum": 96
   },
   {
    "_defaultOrder": 29,
    "_isFastLaunch": true,
    "category": "Accelerated computing",
    "gpuNum": 1,
    "hideHardwareSpecs": false,
    "memoryGiB": 16,
    "name": "ml.g4dn.xlarge",
    "vcpuNum": 4
   },
   {
    "_defaultOrder": 30,
    "_isFastLaunch": false,
    "category": "Accelerated computing",
    "gpuNum": 1,
    "hideHardwareSpecs": false,
    "memoryGiB": 32,
    "name": "ml.g4dn.2xlarge",
    "vcpuNum": 8
   },
   {
    "_defaultOrder": 31,
    "_isFastLaunch": false,
    "category": "Accelerated computing",
    "gpuNum": 1,
    "hideHardwareSpecs": false,
    "memoryGiB": 64,
    "name": "ml.g4dn.4xlarge",
    "vcpuNum": 16
   },
   {
    "_defaultOrder": 32,
    "_isFastLaunch": false,
    "category": "Accelerated computing",
    "gpuNum": 1,
    "hideHardwareSpecs": false,
    "memoryGiB": 128,
    "name": "ml.g4dn.8xlarge",
    "vcpuNum": 32
   },
   {
    "_defaultOrder": 33,
    "_isFastLaunch": false,
    "category": "Accelerated computing",
    "gpuNum": 4,
    "hideHardwareSpecs": false,
    "memoryGiB": 192,
    "name": "ml.g4dn.12xlarge",
    "vcpuNum": 48
   },
   {
    "_defaultOrder": 34,
    "_isFastLaunch": false,
    "category": "Accelerated computing",
    "gpuNum": 1,
    "hideHardwareSpecs": false,
    "memoryGiB": 256,
    "name": "ml.g4dn.16xlarge",
    "vcpuNum": 64
   },
   {
    "_defaultOrder": 35,
    "_isFastLaunch": false,
    "category": "Accelerated computing",
    "gpuNum": 1,
    "hideHardwareSpecs": false,
    "memoryGiB": 61,
    "name": "ml.p3.2xlarge",
    "vcpuNum": 8
   },
   {
    "_defaultOrder": 36,
    "_isFastLaunch": false,
    "category": "Accelerated computing",
    "gpuNum": 4,
    "hideHardwareSpecs": false,
    "memoryGiB": 244,
    "name": "ml.p3.8xlarge",
    "vcpuNum": 32
   },
   {
    "_defaultOrder": 37,
    "_isFastLaunch": false,
    "category": "Accelerated computing",
    "gpuNum": 8,
    "hideHardwareSpecs": false,
    "memoryGiB": 488,
    "name": "ml.p3.16xlarge",
    "vcpuNum": 64
   },
   {
    "_defaultOrder": 38,
    "_isFastLaunch": false,
    "category": "Accelerated computing",
    "gpuNum": 8,
    "hideHardwareSpecs": false,
    "memoryGiB": 768,
    "name": "ml.p3dn.24xlarge",
    "vcpuNum": 96
   },
   {
    "_defaultOrder": 39,
    "_isFastLaunch": false,
    "category": "Memory Optimized",
    "gpuNum": 0,
    "hideHardwareSpecs": false,
    "memoryGiB": 16,
    "name": "ml.r5.large",
    "vcpuNum": 2
   },
   {
    "_defaultOrder": 40,
    "_isFastLaunch": false,
    "category": "Memory Optimized",
    "gpuNum": 0,
    "hideHardwareSpecs": false,
    "memoryGiB": 32,
    "name": "ml.r5.xlarge",
    "vcpuNum": 4
   },
   {
    "_defaultOrder": 41,
    "_isFastLaunch": false,
    "category": "Memory Optimized",
    "gpuNum": 0,
    "hideHardwareSpecs": false,
    "memoryGiB": 64,
    "name": "ml.r5.2xlarge",
    "vcpuNum": 8
   },
   {
    "_defaultOrder": 42,
    "_isFastLaunch": false,
    "category": "Memory Optimized",
    "gpuNum": 0,
    "hideHardwareSpecs": false,
    "memoryGiB": 128,
    "name": "ml.r5.4xlarge",
    "vcpuNum": 16
   },
   {
    "_defaultOrder": 43,
    "_isFastLaunch": false,
    "category": "Memory Optimized",
    "gpuNum": 0,
    "hideHardwareSpecs": false,
    "memoryGiB": 256,
    "name": "ml.r5.8xlarge",
    "vcpuNum": 32
   },
   {
    "_defaultOrder": 44,
    "_isFastLaunch": false,
    "category": "Memory Optimized",
    "gpuNum": 0,
    "hideHardwareSpecs": false,
    "memoryGiB": 384,
    "name": "ml.r5.12xlarge",
    "vcpuNum": 48
   },
   {
    "_defaultOrder": 45,
    "_isFastLaunch": false,
    "category": "Memory Optimized",
    "gpuNum": 0,
    "hideHardwareSpecs": false,
    "memoryGiB": 512,
    "name": "ml.r5.16xlarge",
    "vcpuNum": 64
   },
   {
    "_defaultOrder": 46,
    "_isFastLaunch": false,
    "category": "Memory Optimized",
    "gpuNum": 0,
    "hideHardwareSpecs": false,
    "memoryGiB": 768,
    "name": "ml.r5.24xlarge",
    "vcpuNum": 96
   },
   {
    "_defaultOrder": 47,
    "_isFastLaunch": false,
    "category": "Accelerated computing",
    "gpuNum": 1,
    "hideHardwareSpecs": false,
    "memoryGiB": 16,
    "name": "ml.g5.xlarge",
    "vcpuNum": 4
   },
   {
    "_defaultOrder": 48,
    "_isFastLaunch": false,
    "category": "Accelerated computing",
    "gpuNum": 1,
    "hideHardwareSpecs": false,
    "memoryGiB": 32,
    "name": "ml.g5.2xlarge",
    "vcpuNum": 8
   },
   {
    "_defaultOrder": 49,
    "_isFastLaunch": false,
    "category": "Accelerated computing",
    "gpuNum": 1,
    "hideHardwareSpecs": false,
    "memoryGiB": 64,
    "name": "ml.g5.4xlarge",
    "vcpuNum": 16
   },
   {
    "_defaultOrder": 50,
    "_isFastLaunch": false,
    "category": "Accelerated computing",
    "gpuNum": 1,
    "hideHardwareSpecs": false,
    "memoryGiB": 128,
    "name": "ml.g5.8xlarge",
    "vcpuNum": 32
   },
   {
    "_defaultOrder": 51,
    "_isFastLaunch": false,
    "category": "Accelerated computing",
    "gpuNum": 1,
    "hideHardwareSpecs": false,
    "memoryGiB": 256,
    "name": "ml.g5.16xlarge",
    "vcpuNum": 64
   },
   {
    "_defaultOrder": 52,
    "_isFastLaunch": false,
    "category": "Accelerated computing",
    "gpuNum": 4,
    "hideHardwareSpecs": false,
    "memoryGiB": 192,
    "name": "ml.g5.12xlarge",
    "vcpuNum": 48
   },
   {
    "_defaultOrder": 53,
    "_isFastLaunch": false,
    "category": "Accelerated computing",
    "gpuNum": 4,
    "hideHardwareSpecs": false,
    "memoryGiB": 384,
    "name": "ml.g5.24xlarge",
    "vcpuNum": 96
   },
   {
    "_defaultOrder": 54,
    "_isFastLaunch": false,
    "category": "Accelerated computing",
    "gpuNum": 8,
    "hideHardwareSpecs": false,
    "memoryGiB": 768,
    "name": "ml.g5.48xlarge",
    "vcpuNum": 192
   },
   {
    "_defaultOrder": 55,
    "_isFastLaunch": false,
    "category": "Accelerated computing",
    "gpuNum": 8,
    "hideHardwareSpecs": false,
    "memoryGiB": 1152,
    "name": "ml.p4d.24xlarge",
    "vcpuNum": 96
   },
   {
    "_defaultOrder": 56,
    "_isFastLaunch": false,
    "category": "Accelerated computing",
    "gpuNum": 8,
    "hideHardwareSpecs": false,
    "memoryGiB": 1152,
    "name": "ml.p4de.24xlarge",
    "vcpuNum": 96
   }
  ],
  "instance_type": "ml.t3.medium",
  "kernelspec": {
   "display_name": "Python 3 (Data Science 3.0)",
   "language": "python",
   "name": "python3__SAGEMAKER_INTERNAL__arn:aws:sagemaker:us-east-1:081325390199:image/sagemaker-data-science-310-v1"
  },
  "language_info": {
   "codemirror_mode": {
    "name": "ipython",
    "version": 3
   },
   "file_extension": ".py",
   "mimetype": "text/x-python",
   "name": "python",
   "nbconvert_exporter": "python",
   "pygments_lexer": "ipython3",
   "version": "3.10.6"
  }
 },
 "nbformat": 4,
 "nbformat_minor": 4
}
